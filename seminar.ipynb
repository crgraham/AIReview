{
  "cells": [
    {
      "cell_type": "markdown",
      "id": "361124d5",
      "metadata": {
        "id": "361124d5"
      },
      "source": [
        "### Twitter Sentiment Analysis Lab\n",
        "\n",
        "#### Dataset (ai2.csv)\n",
        "The dataset contains approximately 19883 different (scrapped) tweets with the following attributes:\n",
        "- 'id'         : unique 19 digit id for each tweet\n",
        "- 'created_at' : date & time of each tweet (or retweet)\n",
        "- 'text'       : tweet details/ description \n",
        "\n",
        "\n",
        "#### Objective \n",
        "- **Sentiment label** - for each tweet based on it's text, devise a method to assign an appropriate sentiment ('positive', 'negative' or 'neutral'). This is achieved by using TextBlob (https://textblob.readthedocs.io/en/dev/)\n",
        "- **Text Analytics/NLP** - to extract features from tweet texts\n",
        "- **Machine Learning** - Building a robust & optimized ML model to accurately predict the sentiment associated with each tweet & explanation of the built model"
      ]
    },
    {
      "cell_type": "code",
      "source": [
        "# mount data from Google Drive\n",
        "from google.colab import drive\n",
        "drive.mount('/content/drive', force_remount=True)"
      ],
      "metadata": {
        "colab": {
          "base_uri": "https://localhost:8080/"
        },
        "id": "YYjflAMZguDB",
        "outputId": "898aaffb-13ec-46c8-bdd0-724f2d2e04a4"
      },
      "id": "YYjflAMZguDB",
      "execution_count": 3,
      "outputs": [
        {
          "output_type": "stream",
          "name": "stdout",
          "text": [
            "Mounted at /content/drive\n"
          ]
        }
      ]
    },
    {
      "cell_type": "code",
      "source": [
        "import pandas as pd\n",
        "df=pd.read_csv('/content/drive/MyDrive/ai2.csv')\n",
        "df.info()\n"
      ],
      "metadata": {
        "colab": {
          "base_uri": "https://localhost:8080/"
        },
        "id": "-F5C2tRfhbcw",
        "outputId": "aa374ad5-48bd-46a9-c941-c47301dac9f5"
      },
      "id": "-F5C2tRfhbcw",
      "execution_count": 4,
      "outputs": [
        {
          "output_type": "stream",
          "name": "stdout",
          "text": [
            "<class 'pandas.core.frame.DataFrame'>\n",
            "RangeIndex: 19883 entries, 0 to 19882\n",
            "Data columns (total 5 columns):\n",
            " #   Column      Non-Null Count  Dtype  \n",
            "---  ------      --------------  -----  \n",
            " 0   id          19883 non-null  float64\n",
            " 1   created_at  19883 non-null  object \n",
            " 2   date        19883 non-null  object \n",
            " 3   time        19883 non-null  object \n",
            " 4   tweet       19883 non-null  object \n",
            "dtypes: float64(1), object(4)\n",
            "memory usage: 776.8+ KB\n"
          ]
        }
      ]
    },
    {
      "cell_type": "code",
      "execution_count": null,
      "id": "e91f59ed",
      "metadata": {
        "id": "e91f59ed"
      },
      "outputs": [],
      "source": [
        "# Libraries for data preparation & visualisation\n",
        "\n",
        "import re\n",
        "import numpy as np\n",
        "import pandas as pd\n",
        "import seaborn as sns\n",
        "sns.set(color_codes=True)\n",
        "import matplotlib.pyplot as plt\n",
        "%matplotlib inline\n",
        "from wordcloud import WordCloud\n",
        "\n",
        "\n",
        "# Library to ignore warnings\n",
        "\n",
        "import warnings\n",
        "warnings.filterwarnings(\"ignore\")\n",
        "\n",
        "# Library for assigning sentiment label\n",
        "\n",
        "from textblob import TextBlob\n",
        "\n",
        "# Libraries for text analytics\n",
        "\n",
        "import nltk\n",
        "from nltk.stem.wordnet import WordNetLemmatizer \n",
        "from nltk.stem.porter  import PorterStemmer\n",
        "from sklearn.feature_extraction.text import TfidfVectorizer\n",
        "\n",
        "# Libraries for ML modeling \n",
        "\n",
        "from sklearn.model_selection import train_test_split\n",
        "from sklearn.model_selection import StratifiedKFold, ParameterGrid\n",
        "from sklearn.model_selection import GridSearchCV, cross_val_score #cross-validation\n",
        "from sklearn.preprocessing import OneHotEncoder, StandardScaler\n",
        "from imblearn.over_sampling import RandomOverSampler\n",
        "from imblearn.pipeline import Pipeline #not used today\n",
        "from sklearn.svm import LinearSVC\n",
        "from sklearn.naive_bayes import MultinomialNB\n",
        "from sklearn.ensemble import RandomForestClassifier\n",
        "from xgboost import XGBClassifier\n",
        "from sklearn.metrics import f1_score, classification_report"
      ]
    },
    {
      "cell_type": "code",
      "execution_count": null,
      "id": "dbe80ec8",
      "metadata": {
        "id": "dbe80ec8"
      },
      "outputs": [],
      "source": [
        "# Reading in data \n",
        "\n",
        "data = pd.read_csv('tweets.csv')\n",
        "data.head()"
      ]
    },
    {
      "cell_type": "code",
      "execution_count": null,
      "id": "a6b1f852",
      "metadata": {
        "colab": {
          "base_uri": "https://localhost:8080/"
        },
        "id": "a6b1f852",
        "outputId": "e141c6a1-cfae-4b34-f218-f5c49d284a9d"
      },
      "outputs": [
        {
          "output_type": "execute_result",
          "data": {
            "text/plain": [
              "(19883, 5)"
            ]
          },
          "metadata": {},
          "execution_count": 11
        }
      ],
      "source": [
        "# Shape of data\n",
        "\n",
        "df.shape"
      ]
    },
    {
      "cell_type": "markdown",
      "id": "f4316810",
      "metadata": {
        "id": "f4316810"
      },
      "source": [
        "- There are 19883 rows & 5 columns"
      ]
    },
    {
      "cell_type": "code",
      "execution_count": null,
      "id": "858c8e94",
      "metadata": {
        "colab": {
          "base_uri": "https://localhost:8080/"
        },
        "id": "858c8e94",
        "outputId": "8d9fcda7-906e-4154-f53a-d8dc437993b9"
      },
      "outputs": [
        {
          "output_type": "stream",
          "name": "stdout",
          "text": [
            "<class 'pandas.core.frame.DataFrame'>\n",
            "RangeIndex: 19883 entries, 0 to 19882\n",
            "Data columns (total 5 columns):\n",
            " #   Column      Non-Null Count  Dtype  \n",
            "---  ------      --------------  -----  \n",
            " 0   id          19883 non-null  float64\n",
            " 1   created_at  19883 non-null  object \n",
            " 2   date        19883 non-null  object \n",
            " 3   time        19883 non-null  object \n",
            " 4   tweet       19883 non-null  object \n",
            "dtypes: float64(1), object(4)\n",
            "memory usage: 776.8+ KB\n"
          ]
        }
      ],
      "source": [
        "df.info()"
      ]
    },
    {
      "cell_type": "markdown",
      "id": "1ecd3d7a",
      "metadata": {
        "id": "1ecd3d7a"
      },
      "source": [
        "- 'id' is a 16 digit random number associated with each tweet. This should have no relevance on final modeling & can be dropped \n",
        "- 'created_at' is of object type & will be converted to datetime format\n",
        "- 'location' has 442 missing records "
      ]
    },
    {
      "cell_type": "code",
      "execution_count": null,
      "id": "ac5f452b",
      "metadata": {
        "id": "ac5f452b"
      },
      "outputs": [],
      "source": [
        "# Dropping 'id'\n",
        "\n",
        "df = df.drop('id', axis=1)"
      ]
    },
    {
      "cell_type": "code",
      "execution_count": null,
      "id": "ed7435c4",
      "metadata": {
        "id": "ed7435c4"
      },
      "outputs": [],
      "source": [
        "# Changing datatype for created_at \n",
        "\n",
        "df['created_at'] = pd.to_datetime(df['created_at'])"
      ]
    },
    {
      "cell_type": "code",
      "execution_count": null,
      "id": "1be298e1",
      "metadata": {
        "id": "1be298e1"
      },
      "outputs": [],
      "source": [
        "# Replacing missing records under location with 'unknown'\n",
        "\n",
        "data = data.fillna('Unknown')"
      ]
    },
    {
      "cell_type": "code",
      "execution_count": null,
      "id": "5383ad6f",
      "metadata": {
        "colab": {
          "base_uri": "https://localhost:8080/",
          "height": 173
        },
        "id": "5383ad6f",
        "outputId": "d5059067-8a42-4cd9-ffdb-25945ec23027"
      },
      "outputs": [
        {
          "output_type": "execute_result",
          "data": {
            "text/plain": [
              "            count unique                                                top  \\\n",
              "created_at  19883  18043                          2022-08-31 17:06:13+00:00   \n",
              "date        19883      3                                         31/08/2022   \n",
              "time        19883  16551                                           18:30:00   \n",
              "tweet       19883  19513  What can you learn from #AI advances in medica...   \n",
              "\n",
              "            freq                     first                      last  \n",
              "created_at     9 2022-08-30 07:04:48+00:00 2022-09-01 10:09:46+00:00  \n",
              "date        9283                       NaT                       NaT  \n",
              "time          10                       NaT                       NaT  \n",
              "tweet         16                       NaT                       NaT  "
            ],
            "text/html": [
              "\n",
              "  <div id=\"df-190f3a14-2d9f-4523-b020-e0a25f5ebb1e\">\n",
              "    <div class=\"colab-df-container\">\n",
              "      <div>\n",
              "<style scoped>\n",
              "    .dataframe tbody tr th:only-of-type {\n",
              "        vertical-align: middle;\n",
              "    }\n",
              "\n",
              "    .dataframe tbody tr th {\n",
              "        vertical-align: top;\n",
              "    }\n",
              "\n",
              "    .dataframe thead th {\n",
              "        text-align: right;\n",
              "    }\n",
              "</style>\n",
              "<table border=\"1\" class=\"dataframe\">\n",
              "  <thead>\n",
              "    <tr style=\"text-align: right;\">\n",
              "      <th></th>\n",
              "      <th>count</th>\n",
              "      <th>unique</th>\n",
              "      <th>top</th>\n",
              "      <th>freq</th>\n",
              "      <th>first</th>\n",
              "      <th>last</th>\n",
              "    </tr>\n",
              "  </thead>\n",
              "  <tbody>\n",
              "    <tr>\n",
              "      <th>created_at</th>\n",
              "      <td>19883</td>\n",
              "      <td>18043</td>\n",
              "      <td>2022-08-31 17:06:13+00:00</td>\n",
              "      <td>9</td>\n",
              "      <td>2022-08-30 07:04:48+00:00</td>\n",
              "      <td>2022-09-01 10:09:46+00:00</td>\n",
              "    </tr>\n",
              "    <tr>\n",
              "      <th>date</th>\n",
              "      <td>19883</td>\n",
              "      <td>3</td>\n",
              "      <td>31/08/2022</td>\n",
              "      <td>9283</td>\n",
              "      <td>NaT</td>\n",
              "      <td>NaT</td>\n",
              "    </tr>\n",
              "    <tr>\n",
              "      <th>time</th>\n",
              "      <td>19883</td>\n",
              "      <td>16551</td>\n",
              "      <td>18:30:00</td>\n",
              "      <td>10</td>\n",
              "      <td>NaT</td>\n",
              "      <td>NaT</td>\n",
              "    </tr>\n",
              "    <tr>\n",
              "      <th>tweet</th>\n",
              "      <td>19883</td>\n",
              "      <td>19513</td>\n",
              "      <td>What can you learn from #AI advances in medica...</td>\n",
              "      <td>16</td>\n",
              "      <td>NaT</td>\n",
              "      <td>NaT</td>\n",
              "    </tr>\n",
              "  </tbody>\n",
              "</table>\n",
              "</div>\n",
              "      <button class=\"colab-df-convert\" onclick=\"convertToInteractive('df-190f3a14-2d9f-4523-b020-e0a25f5ebb1e')\"\n",
              "              title=\"Convert this dataframe to an interactive table.\"\n",
              "              style=\"display:none;\">\n",
              "        \n",
              "  <svg xmlns=\"http://www.w3.org/2000/svg\" height=\"24px\"viewBox=\"0 0 24 24\"\n",
              "       width=\"24px\">\n",
              "    <path d=\"M0 0h24v24H0V0z\" fill=\"none\"/>\n",
              "    <path d=\"M18.56 5.44l.94 2.06.94-2.06 2.06-.94-2.06-.94-.94-2.06-.94 2.06-2.06.94zm-11 1L8.5 8.5l.94-2.06 2.06-.94-2.06-.94L8.5 2.5l-.94 2.06-2.06.94zm10 10l.94 2.06.94-2.06 2.06-.94-2.06-.94-.94-2.06-.94 2.06-2.06.94z\"/><path d=\"M17.41 7.96l-1.37-1.37c-.4-.4-.92-.59-1.43-.59-.52 0-1.04.2-1.43.59L10.3 9.45l-7.72 7.72c-.78.78-.78 2.05 0 2.83L4 21.41c.39.39.9.59 1.41.59.51 0 1.02-.2 1.41-.59l7.78-7.78 2.81-2.81c.8-.78.8-2.07 0-2.86zM5.41 20L4 18.59l7.72-7.72 1.47 1.35L5.41 20z\"/>\n",
              "  </svg>\n",
              "      </button>\n",
              "      \n",
              "  <style>\n",
              "    .colab-df-container {\n",
              "      display:flex;\n",
              "      flex-wrap:wrap;\n",
              "      gap: 12px;\n",
              "    }\n",
              "\n",
              "    .colab-df-convert {\n",
              "      background-color: #E8F0FE;\n",
              "      border: none;\n",
              "      border-radius: 50%;\n",
              "      cursor: pointer;\n",
              "      display: none;\n",
              "      fill: #1967D2;\n",
              "      height: 32px;\n",
              "      padding: 0 0 0 0;\n",
              "      width: 32px;\n",
              "    }\n",
              "\n",
              "    .colab-df-convert:hover {\n",
              "      background-color: #E2EBFA;\n",
              "      box-shadow: 0px 1px 2px rgba(60, 64, 67, 0.3), 0px 1px 3px 1px rgba(60, 64, 67, 0.15);\n",
              "      fill: #174EA6;\n",
              "    }\n",
              "\n",
              "    [theme=dark] .colab-df-convert {\n",
              "      background-color: #3B4455;\n",
              "      fill: #D2E3FC;\n",
              "    }\n",
              "\n",
              "    [theme=dark] .colab-df-convert:hover {\n",
              "      background-color: #434B5C;\n",
              "      box-shadow: 0px 1px 3px 1px rgba(0, 0, 0, 0.15);\n",
              "      filter: drop-shadow(0px 1px 2px rgba(0, 0, 0, 0.3));\n",
              "      fill: #FFFFFF;\n",
              "    }\n",
              "  </style>\n",
              "\n",
              "      <script>\n",
              "        const buttonEl =\n",
              "          document.querySelector('#df-190f3a14-2d9f-4523-b020-e0a25f5ebb1e button.colab-df-convert');\n",
              "        buttonEl.style.display =\n",
              "          google.colab.kernel.accessAllowed ? 'block' : 'none';\n",
              "\n",
              "        async function convertToInteractive(key) {\n",
              "          const element = document.querySelector('#df-190f3a14-2d9f-4523-b020-e0a25f5ebb1e');\n",
              "          const dataTable =\n",
              "            await google.colab.kernel.invokeFunction('convertToInteractive',\n",
              "                                                     [key], {});\n",
              "          if (!dataTable) return;\n",
              "\n",
              "          const docLinkHtml = 'Like what you see? Visit the ' +\n",
              "            '<a target=\"_blank\" href=https://colab.research.google.com/notebooks/data_table.ipynb>data table notebook</a>'\n",
              "            + ' to learn more about interactive tables.';\n",
              "          element.innerHTML = '';\n",
              "          dataTable['output_type'] = 'display_data';\n",
              "          await google.colab.output.renderOutput(dataTable, element);\n",
              "          const docLink = document.createElement('div');\n",
              "          docLink.innerHTML = docLinkHtml;\n",
              "          element.appendChild(docLink);\n",
              "        }\n",
              "      </script>\n",
              "    </div>\n",
              "  </div>\n",
              "  "
            ]
          },
          "metadata": {},
          "execution_count": 15
        }
      ],
      "source": [
        "df.describe(include='all').T"
      ]
    },
    {
      "cell_type": "markdown",
      "id": "35f406eb",
      "metadata": {
        "id": "35f406eb"
      },
      "source": [
        "- 'text' value is repeated in the dataset, e.g., text 'RT @NHLBlackhawks: Staying warm never looked s...' occurs 25 times in the dataset. This indicates some of the texts have retweets "
      ]
    },
    {
      "cell_type": "code",
      "execution_count": null,
      "id": "fb49edf0",
      "metadata": {
        "colab": {
          "base_uri": "https://localhost:8080/"
        },
        "id": "fb49edf0",
        "outputId": "580dc5f0-cb57-4839-d5f9-f91cc422e582"
      },
      "outputs": [
        {
          "output_type": "execute_result",
          "data": {
            "text/plain": [
              "5"
            ]
          },
          "metadata": {},
          "execution_count": 17
        }
      ],
      "source": [
        "# Checking duplicates \n",
        "\n",
        "df.duplicated().sum()"
      ]
    },
    {
      "cell_type": "markdown",
      "id": "8efe17dd",
      "metadata": {
        "id": "8efe17dd"
      },
      "source": [
        "- There are 5 duplicate records "
      ]
    },
    {
      "cell_type": "code",
      "source": [
        "df = df.drop_duplicates()"
      ],
      "metadata": {
        "id": "k7YMsozal7xb"
      },
      "id": "k7YMsozal7xb",
      "execution_count": null,
      "outputs": []
    },
    {
      "cell_type": "code",
      "source": [
        "df.duplicated().sum()"
      ],
      "metadata": {
        "colab": {
          "base_uri": "https://localhost:8080/"
        },
        "id": "vUH9WAotl_nA",
        "outputId": "6de28755-cb4a-4a62-9022-48d313d18d52"
      },
      "id": "vUH9WAotl_nA",
      "execution_count": null,
      "outputs": [
        {
          "output_type": "execute_result",
          "data": {
            "text/plain": [
              "0"
            ]
          },
          "metadata": {},
          "execution_count": 19
        }
      ]
    },
    {
      "cell_type": "markdown",
      "source": [
        "Now we have removed duplicates."
      ],
      "metadata": {
        "id": "YFmSVfN9mIuT"
      },
      "id": "YFmSVfN9mIuT"
    },
    {
      "cell_type": "code",
      "execution_count": null,
      "id": "160791df",
      "metadata": {
        "colab": {
          "base_uri": "https://localhost:8080/"
        },
        "id": "160791df",
        "outputId": "b5100fbf-3eb6-423e-c0ae-05f472ef7e7e"
      },
      "outputs": [
        {
          "output_type": "execute_result",
          "data": {
            "text/plain": [
              "0"
            ]
          },
          "metadata": {},
          "execution_count": 20
        }
      ],
      "source": [
        "# Checking for missing values \n",
        "\n",
        "df.isnull().sum().sum()"
      ]
    },
    {
      "cell_type": "markdown",
      "id": "26e32196",
      "metadata": {
        "id": "26e32196"
      },
      "source": [
        "- No further missing values "
      ]
    },
    {
      "cell_type": "markdown",
      "id": "dee66a2b",
      "metadata": {
        "id": "dee66a2b"
      },
      "source": [
        "#### Feature Engineering & EDA"
      ]
    },
    {
      "cell_type": "code",
      "source": [
        "!pip install langdetect"
      ],
      "metadata": {
        "colab": {
          "base_uri": "https://localhost:8080/"
        },
        "id": "HxUHr9MwmarQ",
        "outputId": "2a656100-fb87-4e55-d1af-95fb93e6f840"
      },
      "id": "HxUHr9MwmarQ",
      "execution_count": null,
      "outputs": [
        {
          "output_type": "stream",
          "name": "stdout",
          "text": [
            "Looking in indexes: https://pypi.org/simple, https://us-python.pkg.dev/colab-wheels/public/simple/\n",
            "Collecting langdetect\n",
            "  Downloading langdetect-1.0.9.tar.gz (981 kB)\n",
            "\u001b[2K     \u001b[90m━━━━━━━━━━━━━━━━━━━━━━━━━━━━━━━━━━━━━━\u001b[0m \u001b[32m981.5/981.5 KB\u001b[0m \u001b[31m14.3 MB/s\u001b[0m eta \u001b[36m0:00:00\u001b[0m\n",
            "\u001b[?25h  Preparing metadata (setup.py) ... \u001b[?25l\u001b[?25hdone\n",
            "Requirement already satisfied: six in /usr/local/lib/python3.8/dist-packages (from langdetect) (1.15.0)\n",
            "Building wheels for collected packages: langdetect\n",
            "  Building wheel for langdetect (setup.py) ... \u001b[?25l\u001b[?25hdone\n",
            "  Created wheel for langdetect: filename=langdetect-1.0.9-py3-none-any.whl size=993242 sha256=cabacafb0a6d71b1bc7672f6ab289e63c359b453aa507c1f66e40bc7c08624c7\n",
            "  Stored in directory: /root/.cache/pip/wheels/13/c7/b0/79f66658626032e78fc1a83103690ef6797d551cb22e56e734\n",
            "Successfully built langdetect\n",
            "Installing collected packages: langdetect\n",
            "Successfully installed langdetect-1.0.9\n"
          ]
        }
      ]
    },
    {
      "cell_type": "code",
      "execution_count": null,
      "id": "d273d446",
      "metadata": {
        "id": "d273d446"
      },
      "outputs": [],
      "source": [
        "# Language detection\n",
        "\n",
        "from langdetect import detect\n",
        "\n",
        "def language_detection(text):\n",
        "    \n",
        "    try:\n",
        "        language = detect(text)\n",
        "        return(language)\n",
        "    except:\n",
        "        return('error')\n",
        "\n",
        "df['language'] = df['tweet'].apply(language_detection)"
      ]
    },
    {
      "cell_type": "code",
      "execution_count": null,
      "id": "df858747",
      "metadata": {
        "colab": {
          "base_uri": "https://localhost:8080/",
          "height": 204
        },
        "id": "df858747",
        "outputId": "74813b65-7ac7-4462-8645-7b0b6de7a9b2"
      },
      "outputs": [
        {
          "output_type": "execute_result",
          "data": {
            "text/plain": [
              "                 created_at        date      time  \\\n",
              "0 2022-09-01 10:09:46+00:00  01/09/2022  10:09:46   \n",
              "1 2022-09-01 10:09:42+00:00  01/09/2022  10:09:42   \n",
              "2 2022-09-01 10:08:58+00:00  01/09/2022  10:08:58   \n",
              "3 2022-09-01 10:08:22+00:00  01/09/2022  10:08:22   \n",
              "5 2022-09-01 10:07:51+00:00  01/09/2022  10:07:51   \n",
              "\n",
              "                                               tweet language  \n",
              "0  #workathome #digitalnomad #WFH  DevOps Enginee...       en  \n",
              "1  Neurobiology: Wellspring of Machine Learning w...       en  \n",
              "2  Opening for remote Lead Flask Developer with P...       en  \n",
              "3  Bytesview's advanced #textanalysis tools let y...       en  \n",
              "5  Opening for remote Seeking Django Developer wi...       en  "
            ],
            "text/html": [
              "\n",
              "  <div id=\"df-205b13f6-de64-4fc6-8c0c-880af212d1e4\">\n",
              "    <div class=\"colab-df-container\">\n",
              "      <div>\n",
              "<style scoped>\n",
              "    .dataframe tbody tr th:only-of-type {\n",
              "        vertical-align: middle;\n",
              "    }\n",
              "\n",
              "    .dataframe tbody tr th {\n",
              "        vertical-align: top;\n",
              "    }\n",
              "\n",
              "    .dataframe thead th {\n",
              "        text-align: right;\n",
              "    }\n",
              "</style>\n",
              "<table border=\"1\" class=\"dataframe\">\n",
              "  <thead>\n",
              "    <tr style=\"text-align: right;\">\n",
              "      <th></th>\n",
              "      <th>created_at</th>\n",
              "      <th>date</th>\n",
              "      <th>time</th>\n",
              "      <th>tweet</th>\n",
              "      <th>language</th>\n",
              "    </tr>\n",
              "  </thead>\n",
              "  <tbody>\n",
              "    <tr>\n",
              "      <th>0</th>\n",
              "      <td>2022-09-01 10:09:46+00:00</td>\n",
              "      <td>01/09/2022</td>\n",
              "      <td>10:09:46</td>\n",
              "      <td>#workathome #digitalnomad #WFH  DevOps Enginee...</td>\n",
              "      <td>en</td>\n",
              "    </tr>\n",
              "    <tr>\n",
              "      <th>1</th>\n",
              "      <td>2022-09-01 10:09:42+00:00</td>\n",
              "      <td>01/09/2022</td>\n",
              "      <td>10:09:42</td>\n",
              "      <td>Neurobiology: Wellspring of Machine Learning w...</td>\n",
              "      <td>en</td>\n",
              "    </tr>\n",
              "    <tr>\n",
              "      <th>2</th>\n",
              "      <td>2022-09-01 10:08:58+00:00</td>\n",
              "      <td>01/09/2022</td>\n",
              "      <td>10:08:58</td>\n",
              "      <td>Opening for remote Lead Flask Developer with P...</td>\n",
              "      <td>en</td>\n",
              "    </tr>\n",
              "    <tr>\n",
              "      <th>3</th>\n",
              "      <td>2022-09-01 10:08:22+00:00</td>\n",
              "      <td>01/09/2022</td>\n",
              "      <td>10:08:22</td>\n",
              "      <td>Bytesview's advanced #textanalysis tools let y...</td>\n",
              "      <td>en</td>\n",
              "    </tr>\n",
              "    <tr>\n",
              "      <th>5</th>\n",
              "      <td>2022-09-01 10:07:51+00:00</td>\n",
              "      <td>01/09/2022</td>\n",
              "      <td>10:07:51</td>\n",
              "      <td>Opening for remote Seeking Django Developer wi...</td>\n",
              "      <td>en</td>\n",
              "    </tr>\n",
              "  </tbody>\n",
              "</table>\n",
              "</div>\n",
              "      <button class=\"colab-df-convert\" onclick=\"convertToInteractive('df-205b13f6-de64-4fc6-8c0c-880af212d1e4')\"\n",
              "              title=\"Convert this dataframe to an interactive table.\"\n",
              "              style=\"display:none;\">\n",
              "        \n",
              "  <svg xmlns=\"http://www.w3.org/2000/svg\" height=\"24px\"viewBox=\"0 0 24 24\"\n",
              "       width=\"24px\">\n",
              "    <path d=\"M0 0h24v24H0V0z\" fill=\"none\"/>\n",
              "    <path d=\"M18.56 5.44l.94 2.06.94-2.06 2.06-.94-2.06-.94-.94-2.06-.94 2.06-2.06.94zm-11 1L8.5 8.5l.94-2.06 2.06-.94-2.06-.94L8.5 2.5l-.94 2.06-2.06.94zm10 10l.94 2.06.94-2.06 2.06-.94-2.06-.94-.94-2.06-.94 2.06-2.06.94z\"/><path d=\"M17.41 7.96l-1.37-1.37c-.4-.4-.92-.59-1.43-.59-.52 0-1.04.2-1.43.59L10.3 9.45l-7.72 7.72c-.78.78-.78 2.05 0 2.83L4 21.41c.39.39.9.59 1.41.59.51 0 1.02-.2 1.41-.59l7.78-7.78 2.81-2.81c.8-.78.8-2.07 0-2.86zM5.41 20L4 18.59l7.72-7.72 1.47 1.35L5.41 20z\"/>\n",
              "  </svg>\n",
              "      </button>\n",
              "      \n",
              "  <style>\n",
              "    .colab-df-container {\n",
              "      display:flex;\n",
              "      flex-wrap:wrap;\n",
              "      gap: 12px;\n",
              "    }\n",
              "\n",
              "    .colab-df-convert {\n",
              "      background-color: #E8F0FE;\n",
              "      border: none;\n",
              "      border-radius: 50%;\n",
              "      cursor: pointer;\n",
              "      display: none;\n",
              "      fill: #1967D2;\n",
              "      height: 32px;\n",
              "      padding: 0 0 0 0;\n",
              "      width: 32px;\n",
              "    }\n",
              "\n",
              "    .colab-df-convert:hover {\n",
              "      background-color: #E2EBFA;\n",
              "      box-shadow: 0px 1px 2px rgba(60, 64, 67, 0.3), 0px 1px 3px 1px rgba(60, 64, 67, 0.15);\n",
              "      fill: #174EA6;\n",
              "    }\n",
              "\n",
              "    [theme=dark] .colab-df-convert {\n",
              "      background-color: #3B4455;\n",
              "      fill: #D2E3FC;\n",
              "    }\n",
              "\n",
              "    [theme=dark] .colab-df-convert:hover {\n",
              "      background-color: #434B5C;\n",
              "      box-shadow: 0px 1px 3px 1px rgba(0, 0, 0, 0.15);\n",
              "      filter: drop-shadow(0px 1px 2px rgba(0, 0, 0, 0.3));\n",
              "      fill: #FFFFFF;\n",
              "    }\n",
              "  </style>\n",
              "\n",
              "      <script>\n",
              "        const buttonEl =\n",
              "          document.querySelector('#df-205b13f6-de64-4fc6-8c0c-880af212d1e4 button.colab-df-convert');\n",
              "        buttonEl.style.display =\n",
              "          google.colab.kernel.accessAllowed ? 'block' : 'none';\n",
              "\n",
              "        async function convertToInteractive(key) {\n",
              "          const element = document.querySelector('#df-205b13f6-de64-4fc6-8c0c-880af212d1e4');\n",
              "          const dataTable =\n",
              "            await google.colab.kernel.invokeFunction('convertToInteractive',\n",
              "                                                     [key], {});\n",
              "          if (!dataTable) return;\n",
              "\n",
              "          const docLinkHtml = 'Like what you see? Visit the ' +\n",
              "            '<a target=\"_blank\" href=https://colab.research.google.com/notebooks/data_table.ipynb>data table notebook</a>'\n",
              "            + ' to learn more about interactive tables.';\n",
              "          element.innerHTML = '';\n",
              "          dataTable['output_type'] = 'display_data';\n",
              "          await google.colab.output.renderOutput(dataTable, element);\n",
              "          const docLink = document.createElement('div');\n",
              "          docLink.innerHTML = docLinkHtml;\n",
              "          element.appendChild(docLink);\n",
              "        }\n",
              "      </script>\n",
              "    </div>\n",
              "  </div>\n",
              "  "
            ]
          },
          "metadata": {},
          "execution_count": 29
        }
      ],
      "source": [
        "df.head()"
      ]
    },
    {
      "cell_type": "code",
      "execution_count": null,
      "id": "33dd756d",
      "metadata": {
        "colab": {
          "base_uri": "https://localhost:8080/"
        },
        "id": "33dd756d",
        "outputId": "827d6997-5020-4fe3-986a-07662fd22829"
      },
      "outputs": [
        {
          "output_type": "execute_result",
          "data": {
            "text/plain": [
              "en    17421\n",
              "it       17\n",
              "fr       12\n",
              "nl        7\n",
              "ca        5\n",
              "et        5\n",
              "af        4\n",
              "ja        3\n",
              "no        3\n",
              "da        2\n",
              "de        2\n",
              "id        2\n",
              "cy        2\n",
              "tr        1\n",
              "sw        1\n",
              "hr        1\n",
              "th        1\n",
              "es        1\n",
              "tl        1\n",
              "ro        1\n",
              "Name: language, dtype: int64"
            ]
          },
          "metadata": {},
          "execution_count": 30
        }
      ],
      "source": [
        "# Language \n",
        "\n",
        "df['language'].value_counts()"
      ]
    },
    {
      "cell_type": "code",
      "execution_count": null,
      "id": "1ee90959",
      "metadata": {
        "id": "1ee90959"
      },
      "outputs": [],
      "source": [
        "# Filter the dataset to only contain english texts\n",
        "\n",
        "df = df[df['language']=='en']\n",
        "df.drop('language', axis=1, inplace=True)"
      ]
    },
    {
      "cell_type": "code",
      "execution_count": null,
      "id": "aa94bc7d",
      "metadata": {
        "colab": {
          "base_uri": "https://localhost:8080/"
        },
        "id": "aa94bc7d",
        "outputId": "aa12309f-7a4a-48cf-92bb-63b1957f70c0"
      },
      "outputs": [
        {
          "output_type": "execute_result",
          "data": {
            "text/plain": [
              "(17421, 4)"
            ]
          },
          "metadata": {},
          "execution_count": 32
        }
      ],
      "source": [
        "# Shape of data\n",
        "\n",
        "df.shape"
      ]
    },
    {
      "cell_type": "markdown",
      "id": "99fd3704",
      "metadata": {
        "id": "99fd3704"
      },
      "source": [
        "- There are 17421 rows remaining "
      ]
    },
    {
      "cell_type": "code",
      "execution_count": null,
      "id": "15566719",
      "metadata": {
        "id": "15566719"
      },
      "outputs": [],
      "source": [
        "# Create new features from 'created_at'\n",
        "\n",
        "# Day of the week\n",
        "df['day_of_week'] = df['created_at'].dt.dayofweek\n",
        "df['day_of_week'] = df['day_of_week'].replace({0:'Monday', 1:'Tuesday', 2:'Wednesday', 3:'Thursday',\\\n",
        "                                                   4:'Friday', 5:'Saturday',6:'Sunday'})"
      ]
    },
    {
      "cell_type": "code",
      "execution_count": null,
      "id": "6c9e659f",
      "metadata": {
        "id": "6c9e659f"
      },
      "outputs": [],
      "source": [
        "# Hour \n",
        "\n",
        "df['hour']        = df['created_at'].dt.hour + df['created_at'].dt.minute/60"
      ]
    },
    {
      "cell_type": "code",
      "execution_count": null,
      "id": "c096b9a9",
      "metadata": {
        "colab": {
          "base_uri": "https://localhost:8080/"
        },
        "id": "c096b9a9",
        "outputId": "8dcf6ba7-9c32-4e53-af3d-18599895697f"
      },
      "outputs": [
        {
          "output_type": "execute_result",
          "data": {
            "text/plain": [
              "Wednesday    8228\n",
              "Tuesday      6375\n",
              "Thursday     2818\n",
              "Name: day_of_week, dtype: int64"
            ]
          },
          "metadata": {},
          "execution_count": 35
        }
      ],
      "source": [
        "# Value counts for day_of_week\n",
        "\n",
        "df['day_of_week'].value_counts()"
      ]
    },
    {
      "cell_type": "markdown",
      "id": "c16acf9c",
      "metadata": {
        "id": "c16acf9c"
      },
      "source": [
        "only 3 days showm, of which Wednesday had the highest number of tweets"
      ]
    },
    {
      "cell_type": "code",
      "execution_count": null,
      "id": "0151f96d",
      "metadata": {
        "id": "0151f96d"
      },
      "outputs": [],
      "source": [
        "# Dropping the 'created_at' attribute\n",
        "\n",
        "df = df.drop('created_at', axis=1)"
      ]
    },
    {
      "cell_type": "code",
      "execution_count": null,
      "id": "aceadf11",
      "metadata": {
        "id": "aceadf11"
      },
      "outputs": [],
      "source": [
        "# Let's create target column, i.e., sentiment associated with text\n",
        "\n",
        "# Defining a function to assign sentiments (positive, negative or neutral)\n",
        "\n",
        "def get_sentiment(text):\n",
        "    blob = TextBlob(text)\n",
        "    sentiment = blob.sentiment.polarity\n",
        "    if sentiment > 0:\n",
        "        return 'positive'\n",
        "    elif sentiment < 0:\n",
        "        return 'negative'\n",
        "    else:\n",
        "        return 'neutral'\n",
        "    \n",
        "df['sentiment'] = df['tweet'].apply(get_sentiment)"
      ]
    },
    {
      "cell_type": "code",
      "execution_count": null,
      "id": "b73473b0",
      "metadata": {
        "colab": {
          "base_uri": "https://localhost:8080/"
        },
        "id": "b73473b0",
        "outputId": "2ed0e629-6034-4d4d-a255-76d70ffa62ff"
      },
      "outputs": [
        {
          "output_type": "execute_result",
          "data": {
            "text/plain": [
              "positive    8086\n",
              "neutral     6675\n",
              "negative    2660\n",
              "Name: sentiment, dtype: int64"
            ]
          },
          "metadata": {},
          "execution_count": 39
        }
      ],
      "source": [
        "# Value counts for sentiment\n",
        "\n",
        "df['sentiment'].value_counts()"
      ]
    },
    {
      "cell_type": "markdown",
      "id": "b7647e11",
      "metadata": {
        "id": "b7647e11"
      },
      "source": [
        "- Maximum tweets have a positive sentiment followed by neutral sentiment"
      ]
    },
    {
      "cell_type": "code",
      "execution_count": null,
      "id": "710c78cc",
      "metadata": {
        "id": "710c78cc"
      },
      "outputs": [],
      "source": [
        "from pandas.core.groupby.generic import DataFrameGroupBy\n",
        "# function to create labeled barplots\n",
        "\n",
        "\n",
        "def labeled_barplot(df, feature, target ,perc=False, n=None):\n",
        "\n",
        "    total = len(df[feature])  # length of the column\n",
        "    count = DataFrameGroupBy[feature].nunique()\n",
        "    if n is None:\n",
        "        plt.figure(figsize=(count + 2, 5))\n",
        "    else:\n",
        "        plt.figure(figsize=(n + 2, 5))\n",
        "\n",
        "    plt.xticks(rotation=90, fontsize=15)\n",
        "    ax = sns.countplot(df=df.sort_values(by=target),x=feature,palette=\"Paired\",hue=target,\\\n",
        "                       order=df[feature].value_counts().index[:n].sort_values(),)\n",
        "\n",
        "    for p in ax.patches:\n",
        "        if perc == True:\n",
        "            label = \"{:.1f}%\".format(100 * p.get_height() / total)  # percentage of each class of the category\n",
        "        else:\n",
        "            label = p.get_height()  # count of each level of the category\n",
        "\n",
        "        x = p.get_x() + p.get_width() / 2  # width of the plot\n",
        "        y = p.get_height()  # height of the plot\n",
        "\n",
        "        ax.annotate(label,(x, y),ha=\"center\",va=\"center\",size=12,xytext=(0, 5),textcoords=\"offset points\",)  # annotate the percentage\n",
        "\n",
        "    plt.show()  # show the plot"
      ]
    },
    {
      "cell_type": "code",
      "source": [
        "data = df.copy()\n",
        "data.head()"
      ],
      "metadata": {
        "colab": {
          "base_uri": "https://localhost:8080/",
          "height": 204
        },
        "id": "z_34nAVNuZMb",
        "outputId": "6341a9b1-ecf7-4295-c2ad-ba6b51ab5d0e"
      },
      "id": "z_34nAVNuZMb",
      "execution_count": null,
      "outputs": [
        {
          "output_type": "execute_result",
          "data": {
            "text/plain": [
              "         date      time                                              tweet  \\\n",
              "0  01/09/2022  10:09:46  #workathome #digitalnomad #WFH  DevOps Enginee...   \n",
              "1  01/09/2022  10:09:42  Neurobiology: Wellspring of Machine Learning w...   \n",
              "2  01/09/2022  10:08:58  Opening for remote Lead Flask Developer with P...   \n",
              "3  01/09/2022  10:08:22  Bytesview's advanced #textanalysis tools let y...   \n",
              "5  01/09/2022  10:07:51  Opening for remote Seeking Django Developer wi...   \n",
              "\n",
              "  day_of_week       hour sentiment  \n",
              "0    Thursday  10.150000  negative  \n",
              "1    Thursday  10.150000  positive  \n",
              "2    Thursday  10.133333  negative  \n",
              "3    Thursday  10.133333  positive  \n",
              "5    Thursday  10.116667  negative  "
            ],
            "text/html": [
              "\n",
              "  <div id=\"df-2004859a-5866-42c2-8bbb-2db8718a3834\">\n",
              "    <div class=\"colab-df-container\">\n",
              "      <div>\n",
              "<style scoped>\n",
              "    .dataframe tbody tr th:only-of-type {\n",
              "        vertical-align: middle;\n",
              "    }\n",
              "\n",
              "    .dataframe tbody tr th {\n",
              "        vertical-align: top;\n",
              "    }\n",
              "\n",
              "    .dataframe thead th {\n",
              "        text-align: right;\n",
              "    }\n",
              "</style>\n",
              "<table border=\"1\" class=\"dataframe\">\n",
              "  <thead>\n",
              "    <tr style=\"text-align: right;\">\n",
              "      <th></th>\n",
              "      <th>date</th>\n",
              "      <th>time</th>\n",
              "      <th>tweet</th>\n",
              "      <th>day_of_week</th>\n",
              "      <th>hour</th>\n",
              "      <th>sentiment</th>\n",
              "    </tr>\n",
              "  </thead>\n",
              "  <tbody>\n",
              "    <tr>\n",
              "      <th>0</th>\n",
              "      <td>01/09/2022</td>\n",
              "      <td>10:09:46</td>\n",
              "      <td>#workathome #digitalnomad #WFH  DevOps Enginee...</td>\n",
              "      <td>Thursday</td>\n",
              "      <td>10.150000</td>\n",
              "      <td>negative</td>\n",
              "    </tr>\n",
              "    <tr>\n",
              "      <th>1</th>\n",
              "      <td>01/09/2022</td>\n",
              "      <td>10:09:42</td>\n",
              "      <td>Neurobiology: Wellspring of Machine Learning w...</td>\n",
              "      <td>Thursday</td>\n",
              "      <td>10.150000</td>\n",
              "      <td>positive</td>\n",
              "    </tr>\n",
              "    <tr>\n",
              "      <th>2</th>\n",
              "      <td>01/09/2022</td>\n",
              "      <td>10:08:58</td>\n",
              "      <td>Opening for remote Lead Flask Developer with P...</td>\n",
              "      <td>Thursday</td>\n",
              "      <td>10.133333</td>\n",
              "      <td>negative</td>\n",
              "    </tr>\n",
              "    <tr>\n",
              "      <th>3</th>\n",
              "      <td>01/09/2022</td>\n",
              "      <td>10:08:22</td>\n",
              "      <td>Bytesview's advanced #textanalysis tools let y...</td>\n",
              "      <td>Thursday</td>\n",
              "      <td>10.133333</td>\n",
              "      <td>positive</td>\n",
              "    </tr>\n",
              "    <tr>\n",
              "      <th>5</th>\n",
              "      <td>01/09/2022</td>\n",
              "      <td>10:07:51</td>\n",
              "      <td>Opening for remote Seeking Django Developer wi...</td>\n",
              "      <td>Thursday</td>\n",
              "      <td>10.116667</td>\n",
              "      <td>negative</td>\n",
              "    </tr>\n",
              "  </tbody>\n",
              "</table>\n",
              "</div>\n",
              "      <button class=\"colab-df-convert\" onclick=\"convertToInteractive('df-2004859a-5866-42c2-8bbb-2db8718a3834')\"\n",
              "              title=\"Convert this dataframe to an interactive table.\"\n",
              "              style=\"display:none;\">\n",
              "        \n",
              "  <svg xmlns=\"http://www.w3.org/2000/svg\" height=\"24px\"viewBox=\"0 0 24 24\"\n",
              "       width=\"24px\">\n",
              "    <path d=\"M0 0h24v24H0V0z\" fill=\"none\"/>\n",
              "    <path d=\"M18.56 5.44l.94 2.06.94-2.06 2.06-.94-2.06-.94-.94-2.06-.94 2.06-2.06.94zm-11 1L8.5 8.5l.94-2.06 2.06-.94-2.06-.94L8.5 2.5l-.94 2.06-2.06.94zm10 10l.94 2.06.94-2.06 2.06-.94-2.06-.94-.94-2.06-.94 2.06-2.06.94z\"/><path d=\"M17.41 7.96l-1.37-1.37c-.4-.4-.92-.59-1.43-.59-.52 0-1.04.2-1.43.59L10.3 9.45l-7.72 7.72c-.78.78-.78 2.05 0 2.83L4 21.41c.39.39.9.59 1.41.59.51 0 1.02-.2 1.41-.59l7.78-7.78 2.81-2.81c.8-.78.8-2.07 0-2.86zM5.41 20L4 18.59l7.72-7.72 1.47 1.35L5.41 20z\"/>\n",
              "  </svg>\n",
              "      </button>\n",
              "      \n",
              "  <style>\n",
              "    .colab-df-container {\n",
              "      display:flex;\n",
              "      flex-wrap:wrap;\n",
              "      gap: 12px;\n",
              "    }\n",
              "\n",
              "    .colab-df-convert {\n",
              "      background-color: #E8F0FE;\n",
              "      border: none;\n",
              "      border-radius: 50%;\n",
              "      cursor: pointer;\n",
              "      display: none;\n",
              "      fill: #1967D2;\n",
              "      height: 32px;\n",
              "      padding: 0 0 0 0;\n",
              "      width: 32px;\n",
              "    }\n",
              "\n",
              "    .colab-df-convert:hover {\n",
              "      background-color: #E2EBFA;\n",
              "      box-shadow: 0px 1px 2px rgba(60, 64, 67, 0.3), 0px 1px 3px 1px rgba(60, 64, 67, 0.15);\n",
              "      fill: #174EA6;\n",
              "    }\n",
              "\n",
              "    [theme=dark] .colab-df-convert {\n",
              "      background-color: #3B4455;\n",
              "      fill: #D2E3FC;\n",
              "    }\n",
              "\n",
              "    [theme=dark] .colab-df-convert:hover {\n",
              "      background-color: #434B5C;\n",
              "      box-shadow: 0px 1px 3px 1px rgba(0, 0, 0, 0.15);\n",
              "      filter: drop-shadow(0px 1px 2px rgba(0, 0, 0, 0.3));\n",
              "      fill: #FFFFFF;\n",
              "    }\n",
              "  </style>\n",
              "\n",
              "      <script>\n",
              "        const buttonEl =\n",
              "          document.querySelector('#df-2004859a-5866-42c2-8bbb-2db8718a3834 button.colab-df-convert');\n",
              "        buttonEl.style.display =\n",
              "          google.colab.kernel.accessAllowed ? 'block' : 'none';\n",
              "\n",
              "        async function convertToInteractive(key) {\n",
              "          const element = document.querySelector('#df-2004859a-5866-42c2-8bbb-2db8718a3834');\n",
              "          const dataTable =\n",
              "            await google.colab.kernel.invokeFunction('convertToInteractive',\n",
              "                                                     [key], {});\n",
              "          if (!dataTable) return;\n",
              "\n",
              "          const docLinkHtml = 'Like what you see? Visit the ' +\n",
              "            '<a target=\"_blank\" href=https://colab.research.google.com/notebooks/data_table.ipynb>data table notebook</a>'\n",
              "            + ' to learn more about interactive tables.';\n",
              "          element.innerHTML = '';\n",
              "          dataTable['output_type'] = 'display_data';\n",
              "          await google.colab.output.renderOutput(dataTable, element);\n",
              "          const docLink = document.createElement('div');\n",
              "          docLink.innerHTML = docLinkHtml;\n",
              "          element.appendChild(docLink);\n",
              "        }\n",
              "      </script>\n",
              "    </div>\n",
              "  </div>\n",
              "  "
            ]
          },
          "metadata": {},
          "execution_count": 45
        }
      ]
    },
    {
      "cell_type": "code",
      "execution_count": null,
      "id": "b7b684a6",
      "metadata": {
        "colab": {
          "base_uri": "https://localhost:8080/",
          "height": 232
        },
        "id": "b7b684a6",
        "outputId": "28372155-eb41-4030-bffe-04542a58964c"
      },
      "outputs": [
        {
          "output_type": "error",
          "ename": "NameError",
          "evalue": "ignored",
          "traceback": [
            "\u001b[0;31m---------------------------------------------------------------------------\u001b[0m",
            "\u001b[0;31mNameError\u001b[0m                                 Traceback (most recent call last)",
            "\u001b[0;32m<ipython-input-1-0911a49ead8c>\u001b[0m in \u001b[0;36m<module>\u001b[0;34m\u001b[0m\n\u001b[1;32m      4\u001b[0m \u001b[0mcat_type\u001b[0m \u001b[0;34m=\u001b[0m \u001b[0mCategoricalDtype\u001b[0m\u001b[0;34m(\u001b[0m\u001b[0mcategories\u001b[0m\u001b[0;34m=\u001b[0m\u001b[0mcats\u001b[0m\u001b[0;34m,\u001b[0m \u001b[0mordered\u001b[0m\u001b[0;34m=\u001b[0m\u001b[0;32mTrue\u001b[0m\u001b[0;34m)\u001b[0m\u001b[0;34m\u001b[0m\u001b[0;34m\u001b[0m\u001b[0m\n\u001b[1;32m      5\u001b[0m \u001b[0;34m\u001b[0m\u001b[0m\n\u001b[0;32m----> 6\u001b[0;31m \u001b[0mdata\u001b[0m\u001b[0;34m[\u001b[0m\u001b[0;34m'day_of_week'\u001b[0m\u001b[0;34m]\u001b[0m\u001b[0;34m=\u001b[0m\u001b[0mdata\u001b[0m\u001b[0;34m[\u001b[0m\u001b[0;34m'day_of_week'\u001b[0m\u001b[0;34m]\u001b[0m\u001b[0;34m.\u001b[0m\u001b[0mastype\u001b[0m\u001b[0;34m(\u001b[0m\u001b[0mcat_type\u001b[0m\u001b[0;34m)\u001b[0m\u001b[0;34m\u001b[0m\u001b[0;34m\u001b[0m\u001b[0m\n\u001b[0m\u001b[1;32m      7\u001b[0m \u001b[0;34m\u001b[0m\u001b[0m\n\u001b[1;32m      8\u001b[0m \u001b[0mlabeled_barplot\u001b[0m\u001b[0;34m(\u001b[0m\u001b[0mdata\u001b[0m\u001b[0;34m,\u001b[0m \u001b[0;34m'day_of_week'\u001b[0m\u001b[0;34m,\u001b[0m \u001b[0;34m'sentiment'\u001b[0m\u001b[0;34m)\u001b[0m\u001b[0;34m\u001b[0m\u001b[0;34m\u001b[0m\u001b[0m\n",
            "\u001b[0;31mNameError\u001b[0m: name 'data' is not defined"
          ]
        }
      ],
      "source": [
        "# day_of_week\n",
        "from pandas.api.types import CategoricalDtype\n",
        "cats     = ['Tuesday', 'Wednesday', 'Thursday']\n",
        "cat_type = CategoricalDtype(categories=cats, ordered=True)\n",
        "\n",
        "data['day_of_week']=data['day_of_week'].astype(cat_type)\n",
        "\n",
        "labeled_barplot(data, 'day_of_week', 'sentiment')"
      ]
    },
    {
      "cell_type": "markdown",
      "id": "23a9c05f",
      "metadata": {
        "id": "23a9c05f"
      },
      "source": [
        "- All weekdays (except Tuesdays) have majority of tweets as positive tweets, while weekends & Tuesdays have majority of tweets as neutral tweets "
      ]
    },
    {
      "cell_type": "code",
      "execution_count": null,
      "id": "a7f00fec",
      "metadata": {
        "colab": {
          "base_uri": "https://localhost:8080/",
          "height": 339
        },
        "id": "a7f00fec",
        "outputId": "aaeffc20-b896-4a04-8923-88d7550ca74c"
      },
      "outputs": [
        {
          "output_type": "display_data",
          "data": {
            "text/plain": [
              "<Figure size 648x360 with 1 Axes>"
            ],
            "image/png": "[encoded data removed]"
          },
          "metadata": {
            "needs_background": "light"
          }
        }
      ],
      "source": [
        "# hour\n",
        "\n",
        "plt.figure(figsize=(9,5))\n",
        "sns.histplot(data=data, x='hour');"
      ]
    },
    {
      "cell_type": "markdown",
      "id": "c29159b8",
      "metadata": {
        "id": "c29159b8"
      },
      "source": [
        "- Majority of the tweets are in the mid-morning late afternoons (peaking after 3PM)"
      ]
    },
    {
      "cell_type": "markdown",
      "id": "798326bc",
      "metadata": {
        "id": "798326bc"
      },
      "source": [
        "New features will be created by counting number of positive & negative words in each tweet. The list of all positive & negative words are borrowed from this study: https://www.cs.uic.edu/~liub/FBS/sentiment-analysis.html"
      ]
    },
    {
      "cell_type": "code",
      "source": [
        "from google.colab import drive\n",
        "drive.mount('/content/drive', force_remount=True)"
      ],
      "metadata": {
        "colab": {
          "base_uri": "https://localhost:8080/"
        },
        "id": "Xpbz7AgbwelY",
        "outputId": "cb16aaaa-4ac5-48e8-9137-ae3c689db87f"
      },
      "id": "Xpbz7AgbwelY",
      "execution_count": null,
      "outputs": [
        {
          "output_type": "stream",
          "name": "stdout",
          "text": [
            "Mounted at /content/drive\n"
          ]
        }
      ]
    },
    {
      "cell_type": "code",
      "source": [
        "import pandas as pd\n",
        "positive_words =pd.read_csv('/content/drive/MyDrive/positive-words.txt',skiprows=35, names=['words']) \n",
        "positive_words = positive_words['words'].values.tolist()"
      ],
      "metadata": {
        "id": "lTeWyJV-wpCI"
      },
      "id": "lTeWyJV-wpCI",
      "execution_count": null,
      "outputs": []
    },
    {
      "cell_type": "code",
      "source": [
        "import pandas as pd\n",
        "negative_words =pd.read_csv('/content/drive/MyDrive/negative-words.txt',skiprows=35, names=['words']) \n",
        "negative_words = negative_words['words'].values.tolist()"
      ],
      "metadata": {
        "id": "ctNtvfhpxNFd"
      },
      "id": "ctNtvfhpxNFd",
      "execution_count": null,
      "outputs": []
    },
    {
      "cell_type": "code",
      "execution_count": null,
      "id": "53bbaef6",
      "metadata": {
        "id": "53bbaef6"
      },
      "outputs": [],
      "source": [
        "# Let's create new features, i.e., number of positive & negative words associated with each text\n",
        "\n",
        "# Defining a function to count number of positive & negative words\n",
        "\n",
        "def count_words(tweet, words): \n",
        "    count = 0\n",
        "    for word in tweet.split(' '):\n",
        "        if word in words:\n",
        "            count += 1\n",
        "    return count\n",
        "\n",
        "data['number_positive_words'] = data['tweet'].apply(count_words, words=positive_words)\n",
        "data['number_negative_words'] = data['tweet'].apply(count_words, words=negative_words)"
      ]
    },
    {
      "cell_type": "code",
      "execution_count": null,
      "id": "b6f954a7",
      "metadata": {
        "id": "b6f954a7"
      },
      "outputs": [],
      "source": [
        "# Function to create stacked barplots\n",
        "\n",
        "def stacked_barplot(data, predictor, target):\n",
        "\n",
        "    count = data[predictor].nunique()\n",
        "    sorter = data[target].value_counts().index[-1]\n",
        "    tab1 = pd.crosstab(data[predictor], data[target], margins=True).sort_values(by=sorter, ascending=False)\n",
        "    print(tab1)\n",
        "    print(\"-\" * 120)\n",
        "    tab = pd.crosstab(data[predictor], data[target], normalize=\"index\").sort_values(by=predictor, ascending=True)\n",
        "    tab.plot(kind=\"bar\", stacked=True, figsize=(count + 5, 5))\n",
        "    plt.legend(loc=\"lower left\", frameon=False,)\n",
        "    plt.legend(loc=\"upper left\", bbox_to_anchor=(1, 1))\n",
        "    plt.show()"
      ]
    },
    {
      "cell_type": "code",
      "execution_count": null,
      "id": "9063a0ad",
      "metadata": {
        "colab": {
          "base_uri": "https://localhost:8080/",
          "height": 540
        },
        "id": "9063a0ad",
        "outputId": "a2d47bf4-5c71-4898-b5e8-0ddb0928e0af"
      },
      "outputs": [
        {
          "output_type": "stream",
          "name": "stdout",
          "text": [
            "sentiment              negative  neutral  positive    All\n",
            "number_positive_words                                    \n",
            "All                        2660     6675      8086  17421\n",
            "0                          2049     6024      4549  12622\n",
            "1                           436      530      2279   3245\n",
            "2                           136       96       908   1140\n",
            "3                            25       19       250    294\n",
            "4                            12        5        64     81\n",
            "5                             1        1        24     26\n",
            "6                             1        0        10     11\n",
            "7                             0        0         2      2\n",
            "------------------------------------------------------------------------------------------------------------------------\n"
          ]
        },
        {
          "output_type": "display_data",
          "data": {
            "text/plain": [
              "<Figure size 936x360 with 1 Axes>"
            ],
            "image/png": "[encoded data removed]"
          },
          "metadata": {
            "needs_background": "light"
          }
        }
      ],
      "source": [
        "# number_positive_words\n",
        "\n",
        "stacked_barplot(data, 'number_positive_words', 'sentiment')"
      ]
    },
    {
      "cell_type": "markdown",
      "id": "b493548e",
      "metadata": {
        "id": "b493548e"
      },
      "source": [
        "- Tweets with 0 or 1 count for number_positive_words have all three sentiments 'neutral', 'positive' & 'negative' \n",
        "- Tweets with 1, 2, 3 or 4 number_positive_words are majorly a 'positive' sentiment as expected"
      ]
    },
    {
      "cell_type": "code",
      "execution_count": null,
      "id": "25cd1588",
      "metadata": {
        "colab": {
          "base_uri": "https://localhost:8080/",
          "height": 523
        },
        "id": "25cd1588",
        "outputId": "9a27275b-3247-411e-ade5-5d81063f6c60"
      },
      "outputs": [
        {
          "output_type": "stream",
          "name": "stdout",
          "text": [
            "sentiment              negative  neutral  positive    All\n",
            "number_negative_words                                    \n",
            "All                        2660     6675      8086  17421\n",
            "0                          2135     6268      6990  15393\n",
            "1                           362      358       904   1624\n",
            "2                           133       40       160    333\n",
            "3                            24        6        25     55\n",
            "4                             3        2         5     10\n",
            "5                             2        1         1      4\n",
            "6                             1        0         1      2\n",
            "------------------------------------------------------------------------------------------------------------------------\n"
          ]
        },
        {
          "output_type": "display_data",
          "data": {
            "text/plain": [
              "<Figure size 864x360 with 1 Axes>"
            ],
            "image/png": "[encoded data removed]"
          },
          "metadata": {
            "needs_background": "light"
          }
        }
      ],
      "source": [
        "# number_negative_words\n",
        "\n",
        "stacked_barplot(data, 'number_negative_words', 'sentiment')"
      ]
    },
    {
      "cell_type": "markdown",
      "id": "82358e28",
      "metadata": {
        "id": "82358e28"
      },
      "source": [
        "- Tweets with 0 or 1 count for number_negative_words have all three sentiments 'neutral', 'positive' & 'negative'\n",
        "- Apart from 4 - the more negatiev words the tweet has the gigher the neative sentiment, as expected. But do you think 4 is different?"
      ]
    },
    {
      "cell_type": "code",
      "execution_count": null,
      "id": "1a48dcca",
      "metadata": {
        "colab": {
          "base_uri": "https://localhost:8080/",
          "height": 204
        },
        "id": "1a48dcca",
        "outputId": "8b17a66c-0c6a-4f3f-ffc9-9ee1564625d3"
      },
      "outputs": [
        {
          "output_type": "execute_result",
          "data": {
            "text/plain": [
              "         date      time                                              tweet  \\\n",
              "0  01/09/2022  10:09:46  #workathome #digitalnomad #WFH  DevOps Enginee...   \n",
              "1  01/09/2022  10:09:42  Neurobiology: Wellspring of Machine Learning w...   \n",
              "2  01/09/2022  10:08:58  Opening for remote Lead Flask Developer with P...   \n",
              "3  01/09/2022  10:08:22  Bytesview's advanced #textanalysis tools let y...   \n",
              "5  01/09/2022  10:07:51  Opening for remote Seeking Django Developer wi...   \n",
              "\n",
              "  day_of_week       hour sentiment  number_positive_words  \\\n",
              "0    Thursday  10.150000  negative                      0   \n",
              "1    Thursday  10.150000  positive                      1   \n",
              "2    Thursday  10.133333  negative                      0   \n",
              "3    Thursday  10.133333  positive                      2   \n",
              "5    Thursday  10.116667  negative                      0   \n",
              "\n",
              "   number_negative_words  \n",
              "0                      0  \n",
              "1                      0  \n",
              "2                      0  \n",
              "3                      0  \n",
              "5                      0  "
            ],
            "text/html": [
              "\n",
              "  <div id=\"df-719ff318-5e76-492c-9b64-ae120a85f0b0\">\n",
              "    <div class=\"colab-df-container\">\n",
              "      <div>\n",
              "<style scoped>\n",
              "    .dataframe tbody tr th:only-of-type {\n",
              "        vertical-align: middle;\n",
              "    }\n",
              "\n",
              "    .dataframe tbody tr th {\n",
              "        vertical-align: top;\n",
              "    }\n",
              "\n",
              "    .dataframe thead th {\n",
              "        text-align: right;\n",
              "    }\n",
              "</style>\n",
              "<table border=\"1\" class=\"dataframe\">\n",
              "  <thead>\n",
              "    <tr style=\"text-align: right;\">\n",
              "      <th></th>\n",
              "      <th>date</th>\n",
              "      <th>time</th>\n",
              "      <th>tweet</th>\n",
              "      <th>day_of_week</th>\n",
              "      <th>hour</th>\n",
              "      <th>sentiment</th>\n",
              "      <th>number_positive_words</th>\n",
              "      <th>number_negative_words</th>\n",
              "    </tr>\n",
              "  </thead>\n",
              "  <tbody>\n",
              "    <tr>\n",
              "      <th>0</th>\n",
              "      <td>01/09/2022</td>\n",
              "      <td>10:09:46</td>\n",
              "      <td>#workathome #digitalnomad #WFH  DevOps Enginee...</td>\n",
              "      <td>Thursday</td>\n",
              "      <td>10.150000</td>\n",
              "      <td>negative</td>\n",
              "      <td>0</td>\n",
              "      <td>0</td>\n",
              "    </tr>\n",
              "    <tr>\n",
              "      <th>1</th>\n",
              "      <td>01/09/2022</td>\n",
              "      <td>10:09:42</td>\n",
              "      <td>Neurobiology: Wellspring of Machine Learning w...</td>\n",
              "      <td>Thursday</td>\n",
              "      <td>10.150000</td>\n",
              "      <td>positive</td>\n",
              "      <td>1</td>\n",
              "      <td>0</td>\n",
              "    </tr>\n",
              "    <tr>\n",
              "      <th>2</th>\n",
              "      <td>01/09/2022</td>\n",
              "      <td>10:08:58</td>\n",
              "      <td>Opening for remote Lead Flask Developer with P...</td>\n",
              "      <td>Thursday</td>\n",
              "      <td>10.133333</td>\n",
              "      <td>negative</td>\n",
              "      <td>0</td>\n",
              "      <td>0</td>\n",
              "    </tr>\n",
              "    <tr>\n",
              "      <th>3</th>\n",
              "      <td>01/09/2022</td>\n",
              "      <td>10:08:22</td>\n",
              "      <td>Bytesview's advanced #textanalysis tools let y...</td>\n",
              "      <td>Thursday</td>\n",
              "      <td>10.133333</td>\n",
              "      <td>positive</td>\n",
              "      <td>2</td>\n",
              "      <td>0</td>\n",
              "    </tr>\n",
              "    <tr>\n",
              "      <th>5</th>\n",
              "      <td>01/09/2022</td>\n",
              "      <td>10:07:51</td>\n",
              "      <td>Opening for remote Seeking Django Developer wi...</td>\n",
              "      <td>Thursday</td>\n",
              "      <td>10.116667</td>\n",
              "      <td>negative</td>\n",
              "      <td>0</td>\n",
              "      <td>0</td>\n",
              "    </tr>\n",
              "  </tbody>\n",
              "</table>\n",
              "</div>\n",
              "      <button class=\"colab-df-convert\" onclick=\"convertToInteractive('df-719ff318-5e76-492c-9b64-ae120a85f0b0')\"\n",
              "              title=\"Convert this dataframe to an interactive table.\"\n",
              "              style=\"display:none;\">\n",
              "        \n",
              "  <svg xmlns=\"http://www.w3.org/2000/svg\" height=\"24px\"viewBox=\"0 0 24 24\"\n",
              "       width=\"24px\">\n",
              "    <path d=\"M0 0h24v24H0V0z\" fill=\"none\"/>\n",
              "    <path d=\"M18.56 5.44l.94 2.06.94-2.06 2.06-.94-2.06-.94-.94-2.06-.94 2.06-2.06.94zm-11 1L8.5 8.5l.94-2.06 2.06-.94-2.06-.94L8.5 2.5l-.94 2.06-2.06.94zm10 10l.94 2.06.94-2.06 2.06-.94-2.06-.94-.94-2.06-.94 2.06-2.06.94z\"/><path d=\"M17.41 7.96l-1.37-1.37c-.4-.4-.92-.59-1.43-.59-.52 0-1.04.2-1.43.59L10.3 9.45l-7.72 7.72c-.78.78-.78 2.05 0 2.83L4 21.41c.39.39.9.59 1.41.59.51 0 1.02-.2 1.41-.59l7.78-7.78 2.81-2.81c.8-.78.8-2.07 0-2.86zM5.41 20L4 18.59l7.72-7.72 1.47 1.35L5.41 20z\"/>\n",
              "  </svg>\n",
              "      </button>\n",
              "      \n",
              "  <style>\n",
              "    .colab-df-container {\n",
              "      display:flex;\n",
              "      flex-wrap:wrap;\n",
              "      gap: 12px;\n",
              "    }\n",
              "\n",
              "    .colab-df-convert {\n",
              "      background-color: #E8F0FE;\n",
              "      border: none;\n",
              "      border-radius: 50%;\n",
              "      cursor: pointer;\n",
              "      display: none;\n",
              "      fill: #1967D2;\n",
              "      height: 32px;\n",
              "      padding: 0 0 0 0;\n",
              "      width: 32px;\n",
              "    }\n",
              "\n",
              "    .colab-df-convert:hover {\n",
              "      background-color: #E2EBFA;\n",
              "      box-shadow: 0px 1px 2px rgba(60, 64, 67, 0.3), 0px 1px 3px 1px rgba(60, 64, 67, 0.15);\n",
              "      fill: #174EA6;\n",
              "    }\n",
              "\n",
              "    [theme=dark] .colab-df-convert {\n",
              "      background-color: #3B4455;\n",
              "      fill: #D2E3FC;\n",
              "    }\n",
              "\n",
              "    [theme=dark] .colab-df-convert:hover {\n",
              "      background-color: #434B5C;\n",
              "      box-shadow: 0px 1px 3px 1px rgba(0, 0, 0, 0.15);\n",
              "      filter: drop-shadow(0px 1px 2px rgba(0, 0, 0, 0.3));\n",
              "      fill: #FFFFFF;\n",
              "    }\n",
              "  </style>\n",
              "\n",
              "      <script>\n",
              "        const buttonEl =\n",
              "          document.querySelector('#df-719ff318-5e76-492c-9b64-ae120a85f0b0 button.colab-df-convert');\n",
              "        buttonEl.style.display =\n",
              "          google.colab.kernel.accessAllowed ? 'block' : 'none';\n",
              "\n",
              "        async function convertToInteractive(key) {\n",
              "          const element = document.querySelector('#df-719ff318-5e76-492c-9b64-ae120a85f0b0');\n",
              "          const dataTable =\n",
              "            await google.colab.kernel.invokeFunction('convertToInteractive',\n",
              "                                                     [key], {});\n",
              "          if (!dataTable) return;\n",
              "\n",
              "          const docLinkHtml = 'Like what you see? Visit the ' +\n",
              "            '<a target=\"_blank\" href=https://colab.research.google.com/notebooks/data_table.ipynb>data table notebook</a>'\n",
              "            + ' to learn more about interactive tables.';\n",
              "          element.innerHTML = '';\n",
              "          dataTable['output_type'] = 'display_data';\n",
              "          await google.colab.output.renderOutput(dataTable, element);\n",
              "          const docLink = document.createElement('div');\n",
              "          docLink.innerHTML = docLinkHtml;\n",
              "          element.appendChild(docLink);\n",
              "        }\n",
              "      </script>\n",
              "    </div>\n",
              "  </div>\n",
              "  "
            ]
          },
          "metadata": {},
          "execution_count": 59
        }
      ],
      "source": [
        "data.head()"
      ]
    },
    {
      "cell_type": "markdown",
      "source": [
        "We see tweets have upper and lower case."
      ],
      "metadata": {
        "id": "Fzz-f3lAze8c"
      },
      "id": "Fzz-f3lAze8c"
    },
    {
      "cell_type": "code",
      "execution_count": null,
      "id": "5e39294e",
      "metadata": {
        "colab": {
          "base_uri": "https://localhost:8080/",
          "height": 204
        },
        "id": "5e39294e",
        "outputId": "419b1e89-144d-432c-b218-45f2ea6137f1"
      },
      "outputs": [
        {
          "output_type": "execute_result",
          "data": {
            "text/plain": [
              "         date      time                                              tweet  \\\n",
              "0  01/09/2022  10:09:46   workathome  digitalnomad  wfh  devops enginee...   \n",
              "1  01/09/2022  10:09:42  neurobiology  wellspring of machine learning w...   \n",
              "2  01/09/2022  10:08:58  opening for remote lead flask developer with p...   \n",
              "3  01/09/2022  10:08:22  bytesview s advanced  textanalysis tools let y...   \n",
              "5  01/09/2022  10:07:51  opening for remote seeking django developer wi...   \n",
              "\n",
              "  day_of_week       hour sentiment  number_positive_words  \\\n",
              "0    Thursday  10.150000  negative                      0   \n",
              "1    Thursday  10.150000  positive                      1   \n",
              "2    Thursday  10.133333  negative                      0   \n",
              "3    Thursday  10.133333  positive                      2   \n",
              "5    Thursday  10.116667  negative                      0   \n",
              "\n",
              "   number_negative_words  \n",
              "0                      0  \n",
              "1                      0  \n",
              "2                      0  \n",
              "3                      0  \n",
              "5                      0  "
            ],
            "text/html": [
              "\n",
              "  <div id=\"df-282ec067-aa7b-495e-854b-f9ae64ca9c26\">\n",
              "    <div class=\"colab-df-container\">\n",
              "      <div>\n",
              "<style scoped>\n",
              "    .dataframe tbody tr th:only-of-type {\n",
              "        vertical-align: middle;\n",
              "    }\n",
              "\n",
              "    .dataframe tbody tr th {\n",
              "        vertical-align: top;\n",
              "    }\n",
              "\n",
              "    .dataframe thead th {\n",
              "        text-align: right;\n",
              "    }\n",
              "</style>\n",
              "<table border=\"1\" class=\"dataframe\">\n",
              "  <thead>\n",
              "    <tr style=\"text-align: right;\">\n",
              "      <th></th>\n",
              "      <th>date</th>\n",
              "      <th>time</th>\n",
              "      <th>tweet</th>\n",
              "      <th>day_of_week</th>\n",
              "      <th>hour</th>\n",
              "      <th>sentiment</th>\n",
              "      <th>number_positive_words</th>\n",
              "      <th>number_negative_words</th>\n",
              "    </tr>\n",
              "  </thead>\n",
              "  <tbody>\n",
              "    <tr>\n",
              "      <th>0</th>\n",
              "      <td>01/09/2022</td>\n",
              "      <td>10:09:46</td>\n",
              "      <td>workathome  digitalnomad  wfh  devops enginee...</td>\n",
              "      <td>Thursday</td>\n",
              "      <td>10.150000</td>\n",
              "      <td>negative</td>\n",
              "      <td>0</td>\n",
              "      <td>0</td>\n",
              "    </tr>\n",
              "    <tr>\n",
              "      <th>1</th>\n",
              "      <td>01/09/2022</td>\n",
              "      <td>10:09:42</td>\n",
              "      <td>neurobiology  wellspring of machine learning w...</td>\n",
              "      <td>Thursday</td>\n",
              "      <td>10.150000</td>\n",
              "      <td>positive</td>\n",
              "      <td>1</td>\n",
              "      <td>0</td>\n",
              "    </tr>\n",
              "    <tr>\n",
              "      <th>2</th>\n",
              "      <td>01/09/2022</td>\n",
              "      <td>10:08:58</td>\n",
              "      <td>opening for remote lead flask developer with p...</td>\n",
              "      <td>Thursday</td>\n",
              "      <td>10.133333</td>\n",
              "      <td>negative</td>\n",
              "      <td>0</td>\n",
              "      <td>0</td>\n",
              "    </tr>\n",
              "    <tr>\n",
              "      <th>3</th>\n",
              "      <td>01/09/2022</td>\n",
              "      <td>10:08:22</td>\n",
              "      <td>bytesview s advanced  textanalysis tools let y...</td>\n",
              "      <td>Thursday</td>\n",
              "      <td>10.133333</td>\n",
              "      <td>positive</td>\n",
              "      <td>2</td>\n",
              "      <td>0</td>\n",
              "    </tr>\n",
              "    <tr>\n",
              "      <th>5</th>\n",
              "      <td>01/09/2022</td>\n",
              "      <td>10:07:51</td>\n",
              "      <td>opening for remote seeking django developer wi...</td>\n",
              "      <td>Thursday</td>\n",
              "      <td>10.116667</td>\n",
              "      <td>negative</td>\n",
              "      <td>0</td>\n",
              "      <td>0</td>\n",
              "    </tr>\n",
              "  </tbody>\n",
              "</table>\n",
              "</div>\n",
              "      <button class=\"colab-df-convert\" onclick=\"convertToInteractive('df-282ec067-aa7b-495e-854b-f9ae64ca9c26')\"\n",
              "              title=\"Convert this dataframe to an interactive table.\"\n",
              "              style=\"display:none;\">\n",
              "        \n",
              "  <svg xmlns=\"http://www.w3.org/2000/svg\" height=\"24px\"viewBox=\"0 0 24 24\"\n",
              "       width=\"24px\">\n",
              "    <path d=\"M0 0h24v24H0V0z\" fill=\"none\"/>\n",
              "    <path d=\"M18.56 5.44l.94 2.06.94-2.06 2.06-.94-2.06-.94-.94-2.06-.94 2.06-2.06.94zm-11 1L8.5 8.5l.94-2.06 2.06-.94-2.06-.94L8.5 2.5l-.94 2.06-2.06.94zm10 10l.94 2.06.94-2.06 2.06-.94-2.06-.94-.94-2.06-.94 2.06-2.06.94z\"/><path d=\"M17.41 7.96l-1.37-1.37c-.4-.4-.92-.59-1.43-.59-.52 0-1.04.2-1.43.59L10.3 9.45l-7.72 7.72c-.78.78-.78 2.05 0 2.83L4 21.41c.39.39.9.59 1.41.59.51 0 1.02-.2 1.41-.59l7.78-7.78 2.81-2.81c.8-.78.8-2.07 0-2.86zM5.41 20L4 18.59l7.72-7.72 1.47 1.35L5.41 20z\"/>\n",
              "  </svg>\n",
              "      </button>\n",
              "      \n",
              "  <style>\n",
              "    .colab-df-container {\n",
              "      display:flex;\n",
              "      flex-wrap:wrap;\n",
              "      gap: 12px;\n",
              "    }\n",
              "\n",
              "    .colab-df-convert {\n",
              "      background-color: #E8F0FE;\n",
              "      border: none;\n",
              "      border-radius: 50%;\n",
              "      cursor: pointer;\n",
              "      display: none;\n",
              "      fill: #1967D2;\n",
              "      height: 32px;\n",
              "      padding: 0 0 0 0;\n",
              "      width: 32px;\n",
              "    }\n",
              "\n",
              "    .colab-df-convert:hover {\n",
              "      background-color: #E2EBFA;\n",
              "      box-shadow: 0px 1px 2px rgba(60, 64, 67, 0.3), 0px 1px 3px 1px rgba(60, 64, 67, 0.15);\n",
              "      fill: #174EA6;\n",
              "    }\n",
              "\n",
              "    [theme=dark] .colab-df-convert {\n",
              "      background-color: #3B4455;\n",
              "      fill: #D2E3FC;\n",
              "    }\n",
              "\n",
              "    [theme=dark] .colab-df-convert:hover {\n",
              "      background-color: #434B5C;\n",
              "      box-shadow: 0px 1px 3px 1px rgba(0, 0, 0, 0.15);\n",
              "      filter: drop-shadow(0px 1px 2px rgba(0, 0, 0, 0.3));\n",
              "      fill: #FFFFFF;\n",
              "    }\n",
              "  </style>\n",
              "\n",
              "      <script>\n",
              "        const buttonEl =\n",
              "          document.querySelector('#df-282ec067-aa7b-495e-854b-f9ae64ca9c26 button.colab-df-convert');\n",
              "        buttonEl.style.display =\n",
              "          google.colab.kernel.accessAllowed ? 'block' : 'none';\n",
              "\n",
              "        async function convertToInteractive(key) {\n",
              "          const element = document.querySelector('#df-282ec067-aa7b-495e-854b-f9ae64ca9c26');\n",
              "          const dataTable =\n",
              "            await google.colab.kernel.invokeFunction('convertToInteractive',\n",
              "                                                     [key], {});\n",
              "          if (!dataTable) return;\n",
              "\n",
              "          const docLinkHtml = 'Like what you see? Visit the ' +\n",
              "            '<a target=\"_blank\" href=https://colab.research.google.com/notebooks/data_table.ipynb>data table notebook</a>'\n",
              "            + ' to learn more about interactive tables.';\n",
              "          element.innerHTML = '';\n",
              "          dataTable['output_type'] = 'display_data';\n",
              "          await google.colab.output.renderOutput(dataTable, element);\n",
              "          const docLink = document.createElement('div');\n",
              "          docLink.innerHTML = docLinkHtml;\n",
              "          element.appendChild(docLink);\n",
              "        }\n",
              "      </script>\n",
              "    </div>\n",
              "  </div>\n",
              "  "
            ]
          },
          "metadata": {},
          "execution_count": 61
        }
      ],
      "source": [
        "# Convert tweets to lowercase \n",
        "\n",
        "data['tweet'] = data['tweet'].str.lower()\n",
        "\n",
        "# Remove non-alphanumeric character from tweets such as '@'\n",
        "\n",
        "def remove_non_alphanumeric(tweet):\n",
        "    pattern = re.compile('\\W')\n",
        "    x = re.sub(pattern, ' ', tweet)\n",
        "    return(x)\n",
        "    \n",
        "data['tweet'] = data['tweet'].apply(remove_non_alphanumeric)\n",
        "\n",
        "data.head()"
      ]
    },
    {
      "cell_type": "markdown",
      "id": "2dcc3f27",
      "metadata": {
        "id": "2dcc3f27"
      },
      "source": [
        "- The text has been converted to lowercase & non-alphanumerical characters such as @ & # have been removed "
      ]
    },
    {
      "cell_type": "code",
      "source": [
        "import nltk\n",
        "nltk.download('punkt')"
      ],
      "metadata": {
        "colab": {
          "base_uri": "https://localhost:8080/"
        },
        "id": "nrv9NQyWzzM3",
        "outputId": "3af1cb24-b4c0-47d6-89db-ba261c8a8b6e"
      },
      "id": "nrv9NQyWzzM3",
      "execution_count": null,
      "outputs": [
        {
          "output_type": "stream",
          "name": "stderr",
          "text": [
            "[nltk_data] Downloading package punkt to /root/nltk_data...\n",
            "[nltk_data]   Unzipping tokenizers/punkt.zip.\n"
          ]
        },
        {
          "output_type": "execute_result",
          "data": {
            "text/plain": [
              "True"
            ]
          },
          "metadata": {},
          "execution_count": 66
        }
      ]
    },
    {
      "cell_type": "code",
      "execution_count": null,
      "id": "39f5da2c",
      "metadata": {
        "colab": {
          "base_uri": "https://localhost:8080/",
          "height": 204
        },
        "id": "39f5da2c",
        "outputId": "a541b133-17ce-4fee-d70e-1ea150a047e6"
      },
      "outputs": [
        {
          "output_type": "execute_result",
          "data": {
            "text/plain": [
              "         date      time                                              tweet  \\\n",
              "0  01/09/2022  10:09:46   workathome  digitalnomad  wfh  devops enginee...   \n",
              "1  01/09/2022  10:09:42  neurobiology  wellspring of machine learning w...   \n",
              "2  01/09/2022  10:08:58  opening for remote lead flask developer with p...   \n",
              "3  01/09/2022  10:08:22  bytesview s advanced  textanalysis tools let y...   \n",
              "5  01/09/2022  10:07:51  opening for remote seeking django developer wi...   \n",
              "\n",
              "  day_of_week       hour sentiment  number_positive_words  \\\n",
              "0    Thursday  10.150000  negative                      0   \n",
              "1    Thursday  10.150000  positive                      1   \n",
              "2    Thursday  10.133333  negative                      0   \n",
              "3    Thursday  10.133333  positive                      2   \n",
              "5    Thursday  10.116667  negative                      0   \n",
              "\n",
              "   number_negative_words                                             tokens  \n",
              "0                      0  [workathome, digitalnomad, wfh, devops, engine...  \n",
              "1                      0  [neurobiology, wellspring, of, machine, learni...  \n",
              "2                      0  [opening, for, remote, lead, flask, developer,...  \n",
              "3                      0  [bytesview, s, advanced, textanalysis, tools, ...  \n",
              "5                      0  [opening, for, remote, seeking, django, develo...  "
            ],
            "text/html": [
              "\n",
              "  <div id=\"df-361a69db-8d73-4604-be24-65327776436d\">\n",
              "    <div class=\"colab-df-container\">\n",
              "      <div>\n",
              "<style scoped>\n",
              "    .dataframe tbody tr th:only-of-type {\n",
              "        vertical-align: middle;\n",
              "    }\n",
              "\n",
              "    .dataframe tbody tr th {\n",
              "        vertical-align: top;\n",
              "    }\n",
              "\n",
              "    .dataframe thead th {\n",
              "        text-align: right;\n",
              "    }\n",
              "</style>\n",
              "<table border=\"1\" class=\"dataframe\">\n",
              "  <thead>\n",
              "    <tr style=\"text-align: right;\">\n",
              "      <th></th>\n",
              "      <th>date</th>\n",
              "      <th>time</th>\n",
              "      <th>tweet</th>\n",
              "      <th>day_of_week</th>\n",
              "      <th>hour</th>\n",
              "      <th>sentiment</th>\n",
              "      <th>number_positive_words</th>\n",
              "      <th>number_negative_words</th>\n",
              "      <th>tokens</th>\n",
              "    </tr>\n",
              "  </thead>\n",
              "  <tbody>\n",
              "    <tr>\n",
              "      <th>0</th>\n",
              "      <td>01/09/2022</td>\n",
              "      <td>10:09:46</td>\n",
              "      <td>workathome  digitalnomad  wfh  devops enginee...</td>\n",
              "      <td>Thursday</td>\n",
              "      <td>10.150000</td>\n",
              "      <td>negative</td>\n",
              "      <td>0</td>\n",
              "      <td>0</td>\n",
              "      <td>[workathome, digitalnomad, wfh, devops, engine...</td>\n",
              "    </tr>\n",
              "    <tr>\n",
              "      <th>1</th>\n",
              "      <td>01/09/2022</td>\n",
              "      <td>10:09:42</td>\n",
              "      <td>neurobiology  wellspring of machine learning w...</td>\n",
              "      <td>Thursday</td>\n",
              "      <td>10.150000</td>\n",
              "      <td>positive</td>\n",
              "      <td>1</td>\n",
              "      <td>0</td>\n",
              "      <td>[neurobiology, wellspring, of, machine, learni...</td>\n",
              "    </tr>\n",
              "    <tr>\n",
              "      <th>2</th>\n",
              "      <td>01/09/2022</td>\n",
              "      <td>10:08:58</td>\n",
              "      <td>opening for remote lead flask developer with p...</td>\n",
              "      <td>Thursday</td>\n",
              "      <td>10.133333</td>\n",
              "      <td>negative</td>\n",
              "      <td>0</td>\n",
              "      <td>0</td>\n",
              "      <td>[opening, for, remote, lead, flask, developer,...</td>\n",
              "    </tr>\n",
              "    <tr>\n",
              "      <th>3</th>\n",
              "      <td>01/09/2022</td>\n",
              "      <td>10:08:22</td>\n",
              "      <td>bytesview s advanced  textanalysis tools let y...</td>\n",
              "      <td>Thursday</td>\n",
              "      <td>10.133333</td>\n",
              "      <td>positive</td>\n",
              "      <td>2</td>\n",
              "      <td>0</td>\n",
              "      <td>[bytesview, s, advanced, textanalysis, tools, ...</td>\n",
              "    </tr>\n",
              "    <tr>\n",
              "      <th>5</th>\n",
              "      <td>01/09/2022</td>\n",
              "      <td>10:07:51</td>\n",
              "      <td>opening for remote seeking django developer wi...</td>\n",
              "      <td>Thursday</td>\n",
              "      <td>10.116667</td>\n",
              "      <td>negative</td>\n",
              "      <td>0</td>\n",
              "      <td>0</td>\n",
              "      <td>[opening, for, remote, seeking, django, develo...</td>\n",
              "    </tr>\n",
              "  </tbody>\n",
              "</table>\n",
              "</div>\n",
              "      <button class=\"colab-df-convert\" onclick=\"convertToInteractive('df-361a69db-8d73-4604-be24-65327776436d')\"\n",
              "              title=\"Convert this dataframe to an interactive table.\"\n",
              "              style=\"display:none;\">\n",
              "        \n",
              "  <svg xmlns=\"http://www.w3.org/2000/svg\" height=\"24px\"viewBox=\"0 0 24 24\"\n",
              "       width=\"24px\">\n",
              "    <path d=\"M0 0h24v24H0V0z\" fill=\"none\"/>\n",
              "    <path d=\"M18.56 5.44l.94 2.06.94-2.06 2.06-.94-2.06-.94-.94-2.06-.94 2.06-2.06.94zm-11 1L8.5 8.5l.94-2.06 2.06-.94-2.06-.94L8.5 2.5l-.94 2.06-2.06.94zm10 10l.94 2.06.94-2.06 2.06-.94-2.06-.94-.94-2.06-.94 2.06-2.06.94z\"/><path d=\"M17.41 7.96l-1.37-1.37c-.4-.4-.92-.59-1.43-.59-.52 0-1.04.2-1.43.59L10.3 9.45l-7.72 7.72c-.78.78-.78 2.05 0 2.83L4 21.41c.39.39.9.59 1.41.59.51 0 1.02-.2 1.41-.59l7.78-7.78 2.81-2.81c.8-.78.8-2.07 0-2.86zM5.41 20L4 18.59l7.72-7.72 1.47 1.35L5.41 20z\"/>\n",
              "  </svg>\n",
              "      </button>\n",
              "      \n",
              "  <style>\n",
              "    .colab-df-container {\n",
              "      display:flex;\n",
              "      flex-wrap:wrap;\n",
              "      gap: 12px;\n",
              "    }\n",
              "\n",
              "    .colab-df-convert {\n",
              "      background-color: #E8F0FE;\n",
              "      border: none;\n",
              "      border-radius: 50%;\n",
              "      cursor: pointer;\n",
              "      display: none;\n",
              "      fill: #1967D2;\n",
              "      height: 32px;\n",
              "      padding: 0 0 0 0;\n",
              "      width: 32px;\n",
              "    }\n",
              "\n",
              "    .colab-df-convert:hover {\n",
              "      background-color: #E2EBFA;\n",
              "      box-shadow: 0px 1px 2px rgba(60, 64, 67, 0.3), 0px 1px 3px 1px rgba(60, 64, 67, 0.15);\n",
              "      fill: #174EA6;\n",
              "    }\n",
              "\n",
              "    [theme=dark] .colab-df-convert {\n",
              "      background-color: #3B4455;\n",
              "      fill: #D2E3FC;\n",
              "    }\n",
              "\n",
              "    [theme=dark] .colab-df-convert:hover {\n",
              "      background-color: #434B5C;\n",
              "      box-shadow: 0px 1px 3px 1px rgba(0, 0, 0, 0.15);\n",
              "      filter: drop-shadow(0px 1px 2px rgba(0, 0, 0, 0.3));\n",
              "      fill: #FFFFFF;\n",
              "    }\n",
              "  </style>\n",
              "\n",
              "      <script>\n",
              "        const buttonEl =\n",
              "          document.querySelector('#df-361a69db-8d73-4604-be24-65327776436d button.colab-df-convert');\n",
              "        buttonEl.style.display =\n",
              "          google.colab.kernel.accessAllowed ? 'block' : 'none';\n",
              "\n",
              "        async function convertToInteractive(key) {\n",
              "          const element = document.querySelector('#df-361a69db-8d73-4604-be24-65327776436d');\n",
              "          const dataTable =\n",
              "            await google.colab.kernel.invokeFunction('convertToInteractive',\n",
              "                                                     [key], {});\n",
              "          if (!dataTable) return;\n",
              "\n",
              "          const docLinkHtml = 'Like what you see? Visit the ' +\n",
              "            '<a target=\"_blank\" href=https://colab.research.google.com/notebooks/data_table.ipynb>data table notebook</a>'\n",
              "            + ' to learn more about interactive tables.';\n",
              "          element.innerHTML = '';\n",
              "          dataTable['output_type'] = 'display_data';\n",
              "          await google.colab.output.renderOutput(dataTable, element);\n",
              "          const docLink = document.createElement('div');\n",
              "          docLink.innerHTML = docLinkHtml;\n",
              "          element.appendChild(docLink);\n",
              "        }\n",
              "      </script>\n",
              "    </div>\n",
              "  </div>\n",
              "  "
            ]
          },
          "metadata": {},
          "execution_count": 67
        }
      ],
      "source": [
        "# Tokenize sentences to arrays of words\n",
        "\n",
        "data['tokens'] = data['tweet'].apply(nltk.word_tokenize)\n",
        "\n",
        "data.head()"
      ]
    },
    {
      "cell_type": "code",
      "execution_count": null,
      "id": "4fd884cb",
      "metadata": {
        "colab": {
          "base_uri": "https://localhost:8080/",
          "height": 255
        },
        "id": "4fd884cb",
        "outputId": "d2ef0767-4bf4-4f30-efe2-6e51d2c029c1"
      },
      "outputs": [
        {
          "output_type": "stream",
          "name": "stderr",
          "text": [
            "[nltk_data] Downloading package wordnet to /root/nltk_data...\n",
            "[nltk_data]   Package wordnet is already up-to-date!\n",
            "[nltk_data] Downloading package omw-1.4 to /root/nltk_data...\n"
          ]
        },
        {
          "output_type": "execute_result",
          "data": {
            "text/plain": [
              "         date      time                                              tweet  \\\n",
              "0  01/09/2022  10:09:46   workathome  digitalnomad  wfh  devops enginee...   \n",
              "1  01/09/2022  10:09:42  neurobiology  wellspring of machine learning w...   \n",
              "2  01/09/2022  10:08:58  opening for remote lead flask developer with p...   \n",
              "3  01/09/2022  10:08:22  bytesview s advanced  textanalysis tools let y...   \n",
              "5  01/09/2022  10:07:51  opening for remote seeking django developer wi...   \n",
              "\n",
              "  day_of_week       hour sentiment  number_positive_words  \\\n",
              "0    Thursday  10.150000  negative                      0   \n",
              "1    Thursday  10.150000  positive                      1   \n",
              "2    Thursday  10.133333  negative                      0   \n",
              "3    Thursday  10.133333  positive                      2   \n",
              "5    Thursday  10.116667  negative                      0   \n",
              "\n",
              "   number_negative_words                                             tokens  \n",
              "0                      0  [workathome, digitalnomad, wfh, devops, engine...  \n",
              "1                      0  [neurobiology, wellspring, of, machine, learni...  \n",
              "2                      0  [opening, for, remote, lead, flask, developer,...  \n",
              "3                      0  [bytesview, s, advanced, textanalysis, tool, l...  \n",
              "5                      0  [opening, for, remote, seeking, django, develo...  "
            ],
            "text/html": [
              "\n",
              "  <div id=\"df-10e0aeb1-f157-4fb5-bee6-8859f65b7a06\">\n",
              "    <div class=\"colab-df-container\">\n",
              "      <div>\n",
              "<style scoped>\n",
              "    .dataframe tbody tr th:only-of-type {\n",
              "        vertical-align: middle;\n",
              "    }\n",
              "\n",
              "    .dataframe tbody tr th {\n",
              "        vertical-align: top;\n",
              "    }\n",
              "\n",
              "    .dataframe thead th {\n",
              "        text-align: right;\n",
              "    }\n",
              "</style>\n",
              "<table border=\"1\" class=\"dataframe\">\n",
              "  <thead>\n",
              "    <tr style=\"text-align: right;\">\n",
              "      <th></th>\n",
              "      <th>date</th>\n",
              "      <th>time</th>\n",
              "      <th>tweet</th>\n",
              "      <th>day_of_week</th>\n",
              "      <th>hour</th>\n",
              "      <th>sentiment</th>\n",
              "      <th>number_positive_words</th>\n",
              "      <th>number_negative_words</th>\n",
              "      <th>tokens</th>\n",
              "    </tr>\n",
              "  </thead>\n",
              "  <tbody>\n",
              "    <tr>\n",
              "      <th>0</th>\n",
              "      <td>01/09/2022</td>\n",
              "      <td>10:09:46</td>\n",
              "      <td>workathome  digitalnomad  wfh  devops enginee...</td>\n",
              "      <td>Thursday</td>\n",
              "      <td>10.150000</td>\n",
              "      <td>negative</td>\n",
              "      <td>0</td>\n",
              "      <td>0</td>\n",
              "      <td>[workathome, digitalnomad, wfh, devops, engine...</td>\n",
              "    </tr>\n",
              "    <tr>\n",
              "      <th>1</th>\n",
              "      <td>01/09/2022</td>\n",
              "      <td>10:09:42</td>\n",
              "      <td>neurobiology  wellspring of machine learning w...</td>\n",
              "      <td>Thursday</td>\n",
              "      <td>10.150000</td>\n",
              "      <td>positive</td>\n",
              "      <td>1</td>\n",
              "      <td>0</td>\n",
              "      <td>[neurobiology, wellspring, of, machine, learni...</td>\n",
              "    </tr>\n",
              "    <tr>\n",
              "      <th>2</th>\n",
              "      <td>01/09/2022</td>\n",
              "      <td>10:08:58</td>\n",
              "      <td>opening for remote lead flask developer with p...</td>\n",
              "      <td>Thursday</td>\n",
              "      <td>10.133333</td>\n",
              "      <td>negative</td>\n",
              "      <td>0</td>\n",
              "      <td>0</td>\n",
              "      <td>[opening, for, remote, lead, flask, developer,...</td>\n",
              "    </tr>\n",
              "    <tr>\n",
              "      <th>3</th>\n",
              "      <td>01/09/2022</td>\n",
              "      <td>10:08:22</td>\n",
              "      <td>bytesview s advanced  textanalysis tools let y...</td>\n",
              "      <td>Thursday</td>\n",
              "      <td>10.133333</td>\n",
              "      <td>positive</td>\n",
              "      <td>2</td>\n",
              "      <td>0</td>\n",
              "      <td>[bytesview, s, advanced, textanalysis, tool, l...</td>\n",
              "    </tr>\n",
              "    <tr>\n",
              "      <th>5</th>\n",
              "      <td>01/09/2022</td>\n",
              "      <td>10:07:51</td>\n",
              "      <td>opening for remote seeking django developer wi...</td>\n",
              "      <td>Thursday</td>\n",
              "      <td>10.116667</td>\n",
              "      <td>negative</td>\n",
              "      <td>0</td>\n",
              "      <td>0</td>\n",
              "      <td>[opening, for, remote, seeking, django, develo...</td>\n",
              "    </tr>\n",
              "  </tbody>\n",
              "</table>\n",
              "</div>\n",
              "      <button class=\"colab-df-convert\" onclick=\"convertToInteractive('df-10e0aeb1-f157-4fb5-bee6-8859f65b7a06')\"\n",
              "              title=\"Convert this dataframe to an interactive table.\"\n",
              "              style=\"display:none;\">\n",
              "        \n",
              "  <svg xmlns=\"http://www.w3.org/2000/svg\" height=\"24px\"viewBox=\"0 0 24 24\"\n",
              "       width=\"24px\">\n",
              "    <path d=\"M0 0h24v24H0V0z\" fill=\"none\"/>\n",
              "    <path d=\"M18.56 5.44l.94 2.06.94-2.06 2.06-.94-2.06-.94-.94-2.06-.94 2.06-2.06.94zm-11 1L8.5 8.5l.94-2.06 2.06-.94-2.06-.94L8.5 2.5l-.94 2.06-2.06.94zm10 10l.94 2.06.94-2.06 2.06-.94-2.06-.94-.94-2.06-.94 2.06-2.06.94z\"/><path d=\"M17.41 7.96l-1.37-1.37c-.4-.4-.92-.59-1.43-.59-.52 0-1.04.2-1.43.59L10.3 9.45l-7.72 7.72c-.78.78-.78 2.05 0 2.83L4 21.41c.39.39.9.59 1.41.59.51 0 1.02-.2 1.41-.59l7.78-7.78 2.81-2.81c.8-.78.8-2.07 0-2.86zM5.41 20L4 18.59l7.72-7.72 1.47 1.35L5.41 20z\"/>\n",
              "  </svg>\n",
              "      </button>\n",
              "      \n",
              "  <style>\n",
              "    .colab-df-container {\n",
              "      display:flex;\n",
              "      flex-wrap:wrap;\n",
              "      gap: 12px;\n",
              "    }\n",
              "\n",
              "    .colab-df-convert {\n",
              "      background-color: #E8F0FE;\n",
              "      border: none;\n",
              "      border-radius: 50%;\n",
              "      cursor: pointer;\n",
              "      display: none;\n",
              "      fill: #1967D2;\n",
              "      height: 32px;\n",
              "      padding: 0 0 0 0;\n",
              "      width: 32px;\n",
              "    }\n",
              "\n",
              "    .colab-df-convert:hover {\n",
              "      background-color: #E2EBFA;\n",
              "      box-shadow: 0px 1px 2px rgba(60, 64, 67, 0.3), 0px 1px 3px 1px rgba(60, 64, 67, 0.15);\n",
              "      fill: #174EA6;\n",
              "    }\n",
              "\n",
              "    [theme=dark] .colab-df-convert {\n",
              "      background-color: #3B4455;\n",
              "      fill: #D2E3FC;\n",
              "    }\n",
              "\n",
              "    [theme=dark] .colab-df-convert:hover {\n",
              "      background-color: #434B5C;\n",
              "      box-shadow: 0px 1px 3px 1px rgba(0, 0, 0, 0.15);\n",
              "      filter: drop-shadow(0px 1px 2px rgba(0, 0, 0, 0.3));\n",
              "      fill: #FFFFFF;\n",
              "    }\n",
              "  </style>\n",
              "\n",
              "      <script>\n",
              "        const buttonEl =\n",
              "          document.querySelector('#df-10e0aeb1-f157-4fb5-bee6-8859f65b7a06 button.colab-df-convert');\n",
              "        buttonEl.style.display =\n",
              "          google.colab.kernel.accessAllowed ? 'block' : 'none';\n",
              "\n",
              "        async function convertToInteractive(key) {\n",
              "          const element = document.querySelector('#df-10e0aeb1-f157-4fb5-bee6-8859f65b7a06');\n",
              "          const dataTable =\n",
              "            await google.colab.kernel.invokeFunction('convertToInteractive',\n",
              "                                                     [key], {});\n",
              "          if (!dataTable) return;\n",
              "\n",
              "          const docLinkHtml = 'Like what you see? Visit the ' +\n",
              "            '<a target=\"_blank\" href=https://colab.research.google.com/notebooks/data_table.ipynb>data table notebook</a>'\n",
              "            + ' to learn more about interactive tables.';\n",
              "          element.innerHTML = '';\n",
              "          dataTable['output_type'] = 'display_data';\n",
              "          await google.colab.output.renderOutput(dataTable, element);\n",
              "          const docLink = document.createElement('div');\n",
              "          docLink.innerHTML = docLinkHtml;\n",
              "          element.appendChild(docLink);\n",
              "        }\n",
              "      </script>\n",
              "    </div>\n",
              "  </div>\n",
              "  "
            ]
          },
          "metadata": {},
          "execution_count": 70
        }
      ],
      "source": [
        "# Lemmatize the words\n",
        "import nltk\n",
        "nltk.download('wordnet')\n",
        "nltk.download('omw-1.4')\n",
        "lem = WordNetLemmatizer()\n",
        "data['tokens'] = data['tokens'].apply(lambda x: [lem.lemmatize(word) for word in x])\n",
        "\n",
        "data.head()"
      ]
    },
    {
      "cell_type": "markdown",
      "id": "39e6c89b",
      "metadata": {
        "id": "39e6c89b"
      },
      "source": [
        "- We can see examples of words being broken down to the root  "
      ]
    },
    {
      "cell_type": "code",
      "execution_count": null,
      "id": "89462daa",
      "metadata": {
        "colab": {
          "base_uri": "https://localhost:8080/",
          "height": 204
        },
        "id": "89462daa",
        "outputId": "bf202995-0eb9-429a-efea-db2c33c9a89d"
      },
      "outputs": [
        {
          "output_type": "execute_result",
          "data": {
            "text/plain": [
              "         date      time                                              tweet  \\\n",
              "0  01/09/2022  10:09:46   workathome  digitalnomad  wfh  devops enginee...   \n",
              "1  01/09/2022  10:09:42  neurobiology  wellspring of machine learning w...   \n",
              "2  01/09/2022  10:08:58  opening for remote lead flask developer with p...   \n",
              "3  01/09/2022  10:08:22  bytesview s advanced  textanalysis tools let y...   \n",
              "5  01/09/2022  10:07:51  opening for remote seeking django developer wi...   \n",
              "\n",
              "  day_of_week       hour sentiment  number_positive_words  \\\n",
              "0    Thursday  10.150000  negative                      0   \n",
              "1    Thursday  10.150000  positive                      1   \n",
              "2    Thursday  10.133333  negative                      0   \n",
              "3    Thursday  10.133333  positive                      2   \n",
              "5    Thursday  10.116667  negative                      0   \n",
              "\n",
              "   number_negative_words                                             tokens  \n",
              "0                      0  workathom digitalnomad wfh devop engin remot t...  \n",
              "1                      0  neurobiolog wellspr of machin learn with prof ...  \n",
              "2                      0  open for remot lead flask develop with python ...  \n",
              "3                      0  bytesview s advanc textanalysi tool let you co...  \n",
              "5                      0  open for remot seek django develop with javasc...  "
            ],
            "text/html": [
              "\n",
              "  <div id=\"df-66dfb9e6-e36e-40a0-a84d-edb746648d96\">\n",
              "    <div class=\"colab-df-container\">\n",
              "      <div>\n",
              "<style scoped>\n",
              "    .dataframe tbody tr th:only-of-type {\n",
              "        vertical-align: middle;\n",
              "    }\n",
              "\n",
              "    .dataframe tbody tr th {\n",
              "        vertical-align: top;\n",
              "    }\n",
              "\n",
              "    .dataframe thead th {\n",
              "        text-align: right;\n",
              "    }\n",
              "</style>\n",
              "<table border=\"1\" class=\"dataframe\">\n",
              "  <thead>\n",
              "    <tr style=\"text-align: right;\">\n",
              "      <th></th>\n",
              "      <th>date</th>\n",
              "      <th>time</th>\n",
              "      <th>tweet</th>\n",
              "      <th>day_of_week</th>\n",
              "      <th>hour</th>\n",
              "      <th>sentiment</th>\n",
              "      <th>number_positive_words</th>\n",
              "      <th>number_negative_words</th>\n",
              "      <th>tokens</th>\n",
              "    </tr>\n",
              "  </thead>\n",
              "  <tbody>\n",
              "    <tr>\n",
              "      <th>0</th>\n",
              "      <td>01/09/2022</td>\n",
              "      <td>10:09:46</td>\n",
              "      <td>workathome  digitalnomad  wfh  devops enginee...</td>\n",
              "      <td>Thursday</td>\n",
              "      <td>10.150000</td>\n",
              "      <td>negative</td>\n",
              "      <td>0</td>\n",
              "      <td>0</td>\n",
              "      <td>workathom digitalnomad wfh devop engin remot t...</td>\n",
              "    </tr>\n",
              "    <tr>\n",
              "      <th>1</th>\n",
              "      <td>01/09/2022</td>\n",
              "      <td>10:09:42</td>\n",
              "      <td>neurobiology  wellspring of machine learning w...</td>\n",
              "      <td>Thursday</td>\n",
              "      <td>10.150000</td>\n",
              "      <td>positive</td>\n",
              "      <td>1</td>\n",
              "      <td>0</td>\n",
              "      <td>neurobiolog wellspr of machin learn with prof ...</td>\n",
              "    </tr>\n",
              "    <tr>\n",
              "      <th>2</th>\n",
              "      <td>01/09/2022</td>\n",
              "      <td>10:08:58</td>\n",
              "      <td>opening for remote lead flask developer with p...</td>\n",
              "      <td>Thursday</td>\n",
              "      <td>10.133333</td>\n",
              "      <td>negative</td>\n",
              "      <td>0</td>\n",
              "      <td>0</td>\n",
              "      <td>open for remot lead flask develop with python ...</td>\n",
              "    </tr>\n",
              "    <tr>\n",
              "      <th>3</th>\n",
              "      <td>01/09/2022</td>\n",
              "      <td>10:08:22</td>\n",
              "      <td>bytesview s advanced  textanalysis tools let y...</td>\n",
              "      <td>Thursday</td>\n",
              "      <td>10.133333</td>\n",
              "      <td>positive</td>\n",
              "      <td>2</td>\n",
              "      <td>0</td>\n",
              "      <td>bytesview s advanc textanalysi tool let you co...</td>\n",
              "    </tr>\n",
              "    <tr>\n",
              "      <th>5</th>\n",
              "      <td>01/09/2022</td>\n",
              "      <td>10:07:51</td>\n",
              "      <td>opening for remote seeking django developer wi...</td>\n",
              "      <td>Thursday</td>\n",
              "      <td>10.116667</td>\n",
              "      <td>negative</td>\n",
              "      <td>0</td>\n",
              "      <td>0</td>\n",
              "      <td>open for remot seek django develop with javasc...</td>\n",
              "    </tr>\n",
              "  </tbody>\n",
              "</table>\n",
              "</div>\n",
              "      <button class=\"colab-df-convert\" onclick=\"convertToInteractive('df-66dfb9e6-e36e-40a0-a84d-edb746648d96')\"\n",
              "              title=\"Convert this dataframe to an interactive table.\"\n",
              "              style=\"display:none;\">\n",
              "        \n",
              "  <svg xmlns=\"http://www.w3.org/2000/svg\" height=\"24px\"viewBox=\"0 0 24 24\"\n",
              "       width=\"24px\">\n",
              "    <path d=\"M0 0h24v24H0V0z\" fill=\"none\"/>\n",
              "    <path d=\"M18.56 5.44l.94 2.06.94-2.06 2.06-.94-2.06-.94-.94-2.06-.94 2.06-2.06.94zm-11 1L8.5 8.5l.94-2.06 2.06-.94-2.06-.94L8.5 2.5l-.94 2.06-2.06.94zm10 10l.94 2.06.94-2.06 2.06-.94-2.06-.94-.94-2.06-.94 2.06-2.06.94z\"/><path d=\"M17.41 7.96l-1.37-1.37c-.4-.4-.92-.59-1.43-.59-.52 0-1.04.2-1.43.59L10.3 9.45l-7.72 7.72c-.78.78-.78 2.05 0 2.83L4 21.41c.39.39.9.59 1.41.59.51 0 1.02-.2 1.41-.59l7.78-7.78 2.81-2.81c.8-.78.8-2.07 0-2.86zM5.41 20L4 18.59l7.72-7.72 1.47 1.35L5.41 20z\"/>\n",
              "  </svg>\n",
              "      </button>\n",
              "      \n",
              "  <style>\n",
              "    .colab-df-container {\n",
              "      display:flex;\n",
              "      flex-wrap:wrap;\n",
              "      gap: 12px;\n",
              "    }\n",
              "\n",
              "    .colab-df-convert {\n",
              "      background-color: #E8F0FE;\n",
              "      border: none;\n",
              "      border-radius: 50%;\n",
              "      cursor: pointer;\n",
              "      display: none;\n",
              "      fill: #1967D2;\n",
              "      height: 32px;\n",
              "      padding: 0 0 0 0;\n",
              "      width: 32px;\n",
              "    }\n",
              "\n",
              "    .colab-df-convert:hover {\n",
              "      background-color: #E2EBFA;\n",
              "      box-shadow: 0px 1px 2px rgba(60, 64, 67, 0.3), 0px 1px 3px 1px rgba(60, 64, 67, 0.15);\n",
              "      fill: #174EA6;\n",
              "    }\n",
              "\n",
              "    [theme=dark] .colab-df-convert {\n",
              "      background-color: #3B4455;\n",
              "      fill: #D2E3FC;\n",
              "    }\n",
              "\n",
              "    [theme=dark] .colab-df-convert:hover {\n",
              "      background-color: #434B5C;\n",
              "      box-shadow: 0px 1px 3px 1px rgba(0, 0, 0, 0.15);\n",
              "      filter: drop-shadow(0px 1px 2px rgba(0, 0, 0, 0.3));\n",
              "      fill: #FFFFFF;\n",
              "    }\n",
              "  </style>\n",
              "\n",
              "      <script>\n",
              "        const buttonEl =\n",
              "          document.querySelector('#df-66dfb9e6-e36e-40a0-a84d-edb746648d96 button.colab-df-convert');\n",
              "        buttonEl.style.display =\n",
              "          google.colab.kernel.accessAllowed ? 'block' : 'none';\n",
              "\n",
              "        async function convertToInteractive(key) {\n",
              "          const element = document.querySelector('#df-66dfb9e6-e36e-40a0-a84d-edb746648d96');\n",
              "          const dataTable =\n",
              "            await google.colab.kernel.invokeFunction('convertToInteractive',\n",
              "                                                     [key], {});\n",
              "          if (!dataTable) return;\n",
              "\n",
              "          const docLinkHtml = 'Like what you see? Visit the ' +\n",
              "            '<a target=\"_blank\" href=https://colab.research.google.com/notebooks/data_table.ipynb>data table notebook</a>'\n",
              "            + ' to learn more about interactive tables.';\n",
              "          element.innerHTML = '';\n",
              "          dataTable['output_type'] = 'display_data';\n",
              "          await google.colab.output.renderOutput(dataTable, element);\n",
              "          const docLink = document.createElement('div');\n",
              "          docLink.innerHTML = docLinkHtml;\n",
              "          element.appendChild(docLink);\n",
              "        }\n",
              "      </script>\n",
              "    </div>\n",
              "  </div>\n",
              "  "
            ]
          },
          "metadata": {},
          "execution_count": 71
        }
      ],
      "source": [
        "# Stemming the words\n",
        "\n",
        "stem = PorterStemmer()\n",
        "data['tokens'] = data['tokens'].apply(lambda x: [stem.stem(word) for word in x])\n",
        "\n",
        "data['tokens'] = data['tokens'].str.join(' ')\n",
        "\n",
        "data.head()"
      ]
    },
    {
      "cell_type": "markdown",
      "id": "cac3658a",
      "metadata": {
        "id": "cac3658a"
      },
      "source": [
        "- We can see examples of words being broken down to root (irrespective of the tense) like opening has become open; seeking becamse seek - a few odd ones too."
      ]
    },
    {
      "cell_type": "code",
      "source": [
        "from google.colab import drive\n",
        "drive.mount('/content/drive', force_remount=True)\n",
        "import pandas as pd\n",
        "old_data=pd.read_csv('/content/drive/MyDrive/ai2.csv')"
      ],
      "metadata": {
        "colab": {
          "base_uri": "https://localhost:8080/"
        },
        "id": "Oa4jqc4_16AP",
        "outputId": "b4299196-f887-4ec4-bc88-0505e8ea1339"
      },
      "id": "Oa4jqc4_16AP",
      "execution_count": null,
      "outputs": [
        {
          "output_type": "stream",
          "name": "stdout",
          "text": [
            "Mounted at /content/drive\n"
          ]
        }
      ]
    },
    {
      "cell_type": "code",
      "execution_count": null,
      "id": "5800de0e",
      "metadata": {
        "colab": {
          "base_uri": "https://localhost:8080/",
          "height": 198
        },
        "id": "5800de0e",
        "outputId": "31ae205b-ce33-4c9d-e9a9-c56ceff1a529"
      },
      "outputs": [
        {
          "output_type": "display_data",
          "data": {
            "text/plain": [
              "<Figure size 432x288 with 1 Axes>"
            ],
            "image/png": "[encoded data removed]"
          },
          "metadata": {
            "needs_background": "light"
          }
        }
      ],
      "source": [
        "# Let's plot a word cloud to see the difference between original tweets & tweets post data cleaning\n",
        "\n",
        "# Original tweets\n",
        "\n",
        "\n",
        "old_data['tweet'].to_csv('tweetsonly.csv')  \n",
        "text2 = open('tweetsonly.csv').read()\n",
        "\n",
        "wordcloud = WordCloud().generate(text2)\n",
        "plt.imshow(wordcloud)\n",
        "plt.axis(\"off\")\n",
        "plt.show()"
      ]
    },
    {
      "cell_type": "code",
      "execution_count": null,
      "id": "2ecb3cc6",
      "metadata": {
        "colab": {
          "base_uri": "https://localhost:8080/",
          "height": 198
        },
        "id": "2ecb3cc6",
        "outputId": "05f6a37e-5a47-4d73-8848-26498284e652"
      },
      "outputs": [
        {
          "output_type": "display_data",
          "data": {
            "text/plain": [
              "<Figure size 432x288 with 1 Axes>"
            ],
            "image/png": "[encoded data removed]"
          },
          "metadata": {
            "needs_background": "light"
          }
        }
      ],
      "source": [
        "# tweets post data cleaning\n",
        "\n",
        "data['tokens'].to_csv('cleanedtweetsonly.csv')  \n",
        "text3 = open('cleanedtweetsonly.csv').read()\n",
        "\n",
        "wordcloud = WordCloud().generate(text3)\n",
        "plt.imshow(wordcloud)\n",
        "plt.axis(\"off\")\n",
        "plt.show()"
      ]
    },
    {
      "cell_type": "markdown",
      "id": "0911201f",
      "metadata": {
        "id": "0911201f"
      },
      "source": [
        "\n",
        "- 'HTTPS' was a common occurrence in the original tweets but is no longer a common occurrence in cleaned up tweets. Anything else?"
      ]
    },
    {
      "cell_type": "code",
      "execution_count": null,
      "id": "c362daad",
      "metadata": {
        "id": "c362daad"
      },
      "outputs": [],
      "source": [
        "# Dropping tweet column \n",
        "\n",
        "data = data.drop('tweet', axis=1)"
      ]
    },
    {
      "cell_type": "markdown",
      "id": "982ad746",
      "metadata": {
        "id": "982ad746"
      },
      "source": [
        "### Machine Learning"
      ]
    },
    {
      "cell_type": "code",
      "execution_count": null,
      "id": "aca62c5d",
      "metadata": {
        "id": "aca62c5d"
      },
      "outputs": [],
      "source": [
        "data['sentiment'] = data['sentiment'].replace({'neutral':0, 'positive':1, 'negative':-1})\n",
        "data['sentiment'] = data['sentiment'].astype(int)"
      ]
    },
    {
      "cell_type": "code",
      "execution_count": null,
      "id": "a09a4fc2",
      "metadata": {
        "id": "a09a4fc2"
      },
      "outputs": [],
      "source": [
        "# Assign features & target as X & y respectively\n",
        "\n",
        "X = data.drop('sentiment', axis=1)\n",
        "y = data['sentiment']"
      ]
    },
    {
      "cell_type": "code",
      "execution_count": null,
      "id": "8d8d3df3",
      "metadata": {
        "id": "8d8d3df3"
      },
      "outputs": [],
      "source": [
        "# One hot encoding of day_of_week column\n",
        "\n",
        "X = pd.get_dummies(X, columns=['day_of_week'], drop_first=True)"
      ]
    },
    {
      "cell_type": "code",
      "execution_count": null,
      "id": "6bea8dda",
      "metadata": {
        "id": "6bea8dda"
      },
      "outputs": [],
      "source": [
        "# Split data into train & test set using stratify to maintain the split of sentiment across train & test sets\n",
        "\n",
        "X_train_full, X_test, y_train_full, y_test = train_test_split(X, y, test_size=0.20, random_state=1, stratify=y,\\\n",
        "                                                   shuffle=True)"
      ]
    },
    {
      "cell_type": "code",
      "execution_count": null,
      "id": "c2f41636",
      "metadata": {
        "colab": {
          "base_uri": "https://localhost:8080/"
        },
        "id": "c2f41636",
        "outputId": "983f9192-c0aa-4098-a65e-d186328485b8"
      },
      "outputs": [
        {
          "output_type": "execute_result",
          "data": {
            "text/plain": [
              "(13936, 8)"
            ]
          },
          "metadata": {},
          "execution_count": 82
        }
      ],
      "source": [
        "# Shape of splits \n",
        "\n",
        "X_train_full.shape"
      ]
    },
    {
      "cell_type": "code",
      "execution_count": null,
      "id": "d471bca1",
      "metadata": {
        "colab": {
          "base_uri": "https://localhost:8080/"
        },
        "id": "d471bca1",
        "outputId": "1c0131aa-f364-46bc-b023-5bf78347d095"
      },
      "outputs": [
        {
          "output_type": "execute_result",
          "data": {
            "text/plain": [
              "(3485, 8)"
            ]
          },
          "metadata": {},
          "execution_count": 83
        }
      ],
      "source": [
        "X_test.shape"
      ]
    },
    {
      "cell_type": "markdown",
      "id": "1b41dcca",
      "metadata": {
        "id": "1b41dcca"
      },
      "source": [
        "- There are now 8 columns & 13936 and 3485 rows respectively in full training & test sets"
      ]
    },
    {
      "cell_type": "code",
      "execution_count": null,
      "id": "66856662",
      "metadata": {
        "colab": {
          "base_uri": "https://localhost:8080/"
        },
        "id": "66856662",
        "outputId": "bb973d41-5a1e-4413-9991-77b015086270"
      },
      "outputs": [
        {
          "output_type": "execute_result",
          "data": {
            "text/plain": [
              " 1    0.464122\n",
              " 0    0.383180\n",
              "-1    0.152698\n",
              "Name: sentiment, dtype: float64"
            ]
          },
          "metadata": {},
          "execution_count": 84
        }
      ],
      "source": [
        "y_train_full.value_counts(normalize=True)"
      ]
    },
    {
      "cell_type": "code",
      "execution_count": null,
      "id": "2feb3063",
      "metadata": {
        "colab": {
          "base_uri": "https://localhost:8080/"
        },
        "id": "2feb3063",
        "outputId": "ad6b2a4b-aa67-4df4-8420-22f9d1842ad8"
      },
      "outputs": [
        {
          "output_type": "execute_result",
          "data": {
            "text/plain": [
              " 1    0.464275\n",
              " 0    0.383070\n",
              "-1    0.152654\n",
              "Name: sentiment, dtype: float64"
            ]
          },
          "metadata": {},
          "execution_count": 85
        }
      ],
      "source": [
        "y_test.value_counts(normalize=True)"
      ]
    },
    {
      "cell_type": "markdown",
      "id": "dbb83119",
      "metadata": {
        "id": "dbb83119"
      },
      "source": [
        "- Stratify has maintained the split of neutral ('0'), positive ('1') & negative ('-1') tweets in the dataset"
      ]
    },
    {
      "cell_type": "markdown",
      "id": "af77e8da",
      "metadata": {
        "id": "af77e8da"
      },
      "source": [
        "We would like each class to be predicted correctly. Tuning the 'F1' metric will ensure the maximum possibility of correct predictions across each of the target classes\n",
        "\n",
        "Further, the following additional points need consideration\n",
        "\n",
        "- Vectorizer 'TFIDF' is chosen to convert text data to numerical feature matrix \n",
        "- RandomOverSampler would be needed to handle class imbalance across target classes\n",
        "- Further, choice of ML model(s) that work well with textual data- Multinomial Naive Baiyes, Linear Support Vector Classifier, Random Forest Classifier & XGBoost \n"
      ]
    }
  ],
  "metadata": {
    "kernelspec": {
      "display_name": "Python 3 (ipykernel)",
      "language": "python",
      "name": "python3"
    },
    "language_info": {
      "codemirror_mode": {
        "name": "ipython",
        "version": 3
      },
      "file_extension": ".py",
      "mimetype": "text/x-python",
      "name": "python",
      "nbconvert_exporter": "python",
      "pygments_lexer": "ipython3",
      "version": "3.8.2"
    },
    "colab": {
      "provenance": []
    }
  },
  "nbformat": 4,
  "nbformat_minor": 5
}